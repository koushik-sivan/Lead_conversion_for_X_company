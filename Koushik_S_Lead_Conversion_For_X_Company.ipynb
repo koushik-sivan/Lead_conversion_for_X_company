{
  "nbformat": 4,
  "nbformat_minor": 0,
  "metadata": {
    "colab": {
      "provenance": [],
      "authorship_tag": "ABX9TyOWjqdrB/Q1BSOtflKzQBi2",
      "include_colab_link": true
    },
    "kernelspec": {
      "name": "python3",
      "display_name": "Python 3"
    },
    "language_info": {
      "name": "python"
    }
  },
  "cells": [
    {
      "cell_type": "markdown",
      "metadata": {
        "id": "view-in-github",
        "colab_type": "text"
      },
      "source": [
        "<a href=\"https://colab.research.google.com/github/koushik-sivan/Lead_conversion_for_X_company/blob/main/Koushik_S_Lead_Conversion_For_X_Company.ipynb\" target=\"_parent\"><img src=\"https://colab.research.google.com/assets/colab-badge.svg\" alt=\"Open In Colab\"/></a>"
      ]
    },
    {
      "cell_type": "markdown",
      "source": [
        "Connecting to Drive"
      ],
      "metadata": {
        "id": "nI0QVbqtOtUn"
      }
    },
    {
      "cell_type": "code",
      "execution_count": null,
      "metadata": {
        "colab": {
          "base_uri": "https://localhost:8080/"
        },
        "id": "dDJQDVx5dtdR",
        "outputId": "39e71a45-ba20-424d-85ee-6b8397e2bca7"
      },
      "outputs": [
        {
          "output_type": "stream",
          "name": "stdout",
          "text": [
            "Mounted at /content/drive\n"
          ]
        }
      ],
      "source": [
        "from google.colab import drive\n",
        "drive.mount('/content/drive')"
      ]
    },
    {
      "cell_type": "markdown",
      "source": [
        "Importing Libraries"
      ],
      "metadata": {
        "id": "ZcY3ygbWOxOG"
      }
    },
    {
      "cell_type": "code",
      "source": [
        "import numpy as np\n",
        "import pandas as pd\n",
        "import matplotlib.pyplot as plt\n",
        "import seaborn as sns"
      ],
      "metadata": {
        "id": "lELbZ1QAd7zP"
      },
      "execution_count": null,
      "outputs": []
    },
    {
      "cell_type": "markdown",
      "source": [
        "Reading CSVs"
      ],
      "metadata": {
        "id": "OzA4WA3OO3fv"
      }
    },
    {
      "cell_type": "code",
      "source": [
        "df = pd.read_csv('/content/drive/MyDrive/Colab Notebooks/dsml-case-study/train.csv')\n",
        "test_data = pd.read_csv(\"/content/drive/MyDrive/Colab Notebooks/dsml-case-study/test.csv\")\n",
        "submission_data = pd.read_csv(\"/content/drive/MyDrive/Colab Notebooks/dsml-case-study/sample_submission.csv\")"
      ],
      "metadata": {
        "id": "Fc0g8UiMd-cO"
      },
      "execution_count": null,
      "outputs": []
    },
    {
      "cell_type": "markdown",
      "source": [
        "Checking Data"
      ],
      "metadata": {
        "id": "4E-EOPArO8dl"
      }
    },
    {
      "cell_type": "code",
      "source": [
        "df.head()\n",
        "test_data.head()"
      ],
      "metadata": {
        "id": "lFhJbmFkeBE3",
        "colab": {
          "base_uri": "https://localhost:8080/",
          "height": 585
        },
        "outputId": "b371a33f-8190-4bd7-9ed9-7b0cc4c8b11d"
      },
      "execution_count": null,
      "outputs": [
        {
          "output_type": "execute_result",
          "data": {
            "text/plain": [
              "     Id                           Prospect ID  Lead Number  \\\n",
              "0  8305  54eb2a3d-cb6b-4616-b6e9-c80d8a9dbca4       586427   \n",
              "1  1591  0ca87aef-fa6a-4b3c-acf7-36c1520e8a53       643772   \n",
              "2  8604  6c3e541e-0a1a-4636-b4fa-d026488a33ac       584076   \n",
              "3  1333  fff49ad0-6015-448c-a7cc-f454c39ffdda       645818   \n",
              "4  4260  f880fcdd-3d15-408d-a716-e71801a6c420       619066   \n",
              "\n",
              "               Lead Origin     Lead Source Do Not Email Do Not Call  \\\n",
              "0                      API      Olark Chat           No          No   \n",
              "1                      API          Google           No          No   \n",
              "2  Landing Page Submission          Google           No          No   \n",
              "3  Landing Page Submission  Direct Traffic           No          No   \n",
              "4  Landing Page Submission  Direct Traffic           No          No   \n",
              "\n",
              "   TotalVisits  Total Time Spent on Website  Page Views Per Visit  ...  \\\n",
              "0          0.0                            0                   0.0  ...   \n",
              "1          2.0                         1069                   2.0  ...   \n",
              "2         20.0                          165                   5.0  ...   \n",
              "3          1.0                          471                   1.0  ...   \n",
              "4          1.0                            2                   1.0  ...   \n",
              "\n",
              "  Get updates on DM Content Lead Profile    City Asymmetrique Activity Index  \\\n",
              "0                        No          NaN     NaN                     01.High   \n",
              "1                        No       Select  Select                   02.Medium   \n",
              "2                        No       Select  Mumbai                   02.Medium   \n",
              "3                        No          NaN     NaN                     01.High   \n",
              "4                        No       Select  Mumbai                         NaN   \n",
              "\n",
              "  Asymmetrique Profile Index Asymmetrique Activity Score  \\\n",
              "0                  02.Medium                        17.0   \n",
              "1                  02.Medium                        15.0   \n",
              "2                    01.High                        15.0   \n",
              "3                    01.High                        16.0   \n",
              "4                        NaN                         NaN   \n",
              "\n",
              "  Asymmetrique Profile Score I agree to pay the amount through cheque  \\\n",
              "0                       15.0                                       No   \n",
              "1                       15.0                                       No   \n",
              "2                       18.0                                       No   \n",
              "3                       17.0                                       No   \n",
              "4                        NaN                                       No   \n",
              "\n",
              "  A free copy of Mastering The Interview Last Notable Activity  \n",
              "0                                     No          Email Opened  \n",
              "1                                     No          Email Opened  \n",
              "2                                    Yes              SMS Sent  \n",
              "3                                     No              Modified  \n",
              "4                                    Yes              Modified  \n",
              "\n",
              "[5 rows x 37 columns]"
            ],
            "text/html": [
              "\n",
              "  <div id=\"df-9d2decd2-dcfa-4950-a6bc-0f24315767e5\" class=\"colab-df-container\">\n",
              "    <div>\n",
              "<style scoped>\n",
              "    .dataframe tbody tr th:only-of-type {\n",
              "        vertical-align: middle;\n",
              "    }\n",
              "\n",
              "    .dataframe tbody tr th {\n",
              "        vertical-align: top;\n",
              "    }\n",
              "\n",
              "    .dataframe thead th {\n",
              "        text-align: right;\n",
              "    }\n",
              "</style>\n",
              "<table border=\"1\" class=\"dataframe\">\n",
              "  <thead>\n",
              "    <tr style=\"text-align: right;\">\n",
              "      <th></th>\n",
              "      <th>Id</th>\n",
              "      <th>Prospect ID</th>\n",
              "      <th>Lead Number</th>\n",
              "      <th>Lead Origin</th>\n",
              "      <th>Lead Source</th>\n",
              "      <th>Do Not Email</th>\n",
              "      <th>Do Not Call</th>\n",
              "      <th>TotalVisits</th>\n",
              "      <th>Total Time Spent on Website</th>\n",
              "      <th>Page Views Per Visit</th>\n",
              "      <th>...</th>\n",
              "      <th>Get updates on DM Content</th>\n",
              "      <th>Lead Profile</th>\n",
              "      <th>City</th>\n",
              "      <th>Asymmetrique Activity Index</th>\n",
              "      <th>Asymmetrique Profile Index</th>\n",
              "      <th>Asymmetrique Activity Score</th>\n",
              "      <th>Asymmetrique Profile Score</th>\n",
              "      <th>I agree to pay the amount through cheque</th>\n",
              "      <th>A free copy of Mastering The Interview</th>\n",
              "      <th>Last Notable Activity</th>\n",
              "    </tr>\n",
              "  </thead>\n",
              "  <tbody>\n",
              "    <tr>\n",
              "      <th>0</th>\n",
              "      <td>8305</td>\n",
              "      <td>54eb2a3d-cb6b-4616-b6e9-c80d8a9dbca4</td>\n",
              "      <td>586427</td>\n",
              "      <td>API</td>\n",
              "      <td>Olark Chat</td>\n",
              "      <td>No</td>\n",
              "      <td>No</td>\n",
              "      <td>0.0</td>\n",
              "      <td>0</td>\n",
              "      <td>0.0</td>\n",
              "      <td>...</td>\n",
              "      <td>No</td>\n",
              "      <td>NaN</td>\n",
              "      <td>NaN</td>\n",
              "      <td>01.High</td>\n",
              "      <td>02.Medium</td>\n",
              "      <td>17.0</td>\n",
              "      <td>15.0</td>\n",
              "      <td>No</td>\n",
              "      <td>No</td>\n",
              "      <td>Email Opened</td>\n",
              "    </tr>\n",
              "    <tr>\n",
              "      <th>1</th>\n",
              "      <td>1591</td>\n",
              "      <td>0ca87aef-fa6a-4b3c-acf7-36c1520e8a53</td>\n",
              "      <td>643772</td>\n",
              "      <td>API</td>\n",
              "      <td>Google</td>\n",
              "      <td>No</td>\n",
              "      <td>No</td>\n",
              "      <td>2.0</td>\n",
              "      <td>1069</td>\n",
              "      <td>2.0</td>\n",
              "      <td>...</td>\n",
              "      <td>No</td>\n",
              "      <td>Select</td>\n",
              "      <td>Select</td>\n",
              "      <td>02.Medium</td>\n",
              "      <td>02.Medium</td>\n",
              "      <td>15.0</td>\n",
              "      <td>15.0</td>\n",
              "      <td>No</td>\n",
              "      <td>No</td>\n",
              "      <td>Email Opened</td>\n",
              "    </tr>\n",
              "    <tr>\n",
              "      <th>2</th>\n",
              "      <td>8604</td>\n",
              "      <td>6c3e541e-0a1a-4636-b4fa-d026488a33ac</td>\n",
              "      <td>584076</td>\n",
              "      <td>Landing Page Submission</td>\n",
              "      <td>Google</td>\n",
              "      <td>No</td>\n",
              "      <td>No</td>\n",
              "      <td>20.0</td>\n",
              "      <td>165</td>\n",
              "      <td>5.0</td>\n",
              "      <td>...</td>\n",
              "      <td>No</td>\n",
              "      <td>Select</td>\n",
              "      <td>Mumbai</td>\n",
              "      <td>02.Medium</td>\n",
              "      <td>01.High</td>\n",
              "      <td>15.0</td>\n",
              "      <td>18.0</td>\n",
              "      <td>No</td>\n",
              "      <td>Yes</td>\n",
              "      <td>SMS Sent</td>\n",
              "    </tr>\n",
              "    <tr>\n",
              "      <th>3</th>\n",
              "      <td>1333</td>\n",
              "      <td>fff49ad0-6015-448c-a7cc-f454c39ffdda</td>\n",
              "      <td>645818</td>\n",
              "      <td>Landing Page Submission</td>\n",
              "      <td>Direct Traffic</td>\n",
              "      <td>No</td>\n",
              "      <td>No</td>\n",
              "      <td>1.0</td>\n",
              "      <td>471</td>\n",
              "      <td>1.0</td>\n",
              "      <td>...</td>\n",
              "      <td>No</td>\n",
              "      <td>NaN</td>\n",
              "      <td>NaN</td>\n",
              "      <td>01.High</td>\n",
              "      <td>01.High</td>\n",
              "      <td>16.0</td>\n",
              "      <td>17.0</td>\n",
              "      <td>No</td>\n",
              "      <td>No</td>\n",
              "      <td>Modified</td>\n",
              "    </tr>\n",
              "    <tr>\n",
              "      <th>4</th>\n",
              "      <td>4260</td>\n",
              "      <td>f880fcdd-3d15-408d-a716-e71801a6c420</td>\n",
              "      <td>619066</td>\n",
              "      <td>Landing Page Submission</td>\n",
              "      <td>Direct Traffic</td>\n",
              "      <td>No</td>\n",
              "      <td>No</td>\n",
              "      <td>1.0</td>\n",
              "      <td>2</td>\n",
              "      <td>1.0</td>\n",
              "      <td>...</td>\n",
              "      <td>No</td>\n",
              "      <td>Select</td>\n",
              "      <td>Mumbai</td>\n",
              "      <td>NaN</td>\n",
              "      <td>NaN</td>\n",
              "      <td>NaN</td>\n",
              "      <td>NaN</td>\n",
              "      <td>No</td>\n",
              "      <td>Yes</td>\n",
              "      <td>Modified</td>\n",
              "    </tr>\n",
              "  </tbody>\n",
              "</table>\n",
              "<p>5 rows × 37 columns</p>\n",
              "</div>\n",
              "    <div class=\"colab-df-buttons\">\n",
              "\n",
              "  <div class=\"colab-df-container\">\n",
              "    <button class=\"colab-df-convert\" onclick=\"convertToInteractive('df-9d2decd2-dcfa-4950-a6bc-0f24315767e5')\"\n",
              "            title=\"Convert this dataframe to an interactive table.\"\n",
              "            style=\"display:none;\">\n",
              "\n",
              "  <svg xmlns=\"http://www.w3.org/2000/svg\" height=\"24px\" viewBox=\"0 -960 960 960\">\n",
              "    <path d=\"M120-120v-720h720v720H120Zm60-500h600v-160H180v160Zm220 220h160v-160H400v160Zm0 220h160v-160H400v160ZM180-400h160v-160H180v160Zm440 0h160v-160H620v160ZM180-180h160v-160H180v160Zm440 0h160v-160H620v160Z\"/>\n",
              "  </svg>\n",
              "    </button>\n",
              "\n",
              "  <style>\n",
              "    .colab-df-container {\n",
              "      display:flex;\n",
              "      gap: 12px;\n",
              "    }\n",
              "\n",
              "    .colab-df-convert {\n",
              "      background-color: #E8F0FE;\n",
              "      border: none;\n",
              "      border-radius: 50%;\n",
              "      cursor: pointer;\n",
              "      display: none;\n",
              "      fill: #1967D2;\n",
              "      height: 32px;\n",
              "      padding: 0 0 0 0;\n",
              "      width: 32px;\n",
              "    }\n",
              "\n",
              "    .colab-df-convert:hover {\n",
              "      background-color: #E2EBFA;\n",
              "      box-shadow: 0px 1px 2px rgba(60, 64, 67, 0.3), 0px 1px 3px 1px rgba(60, 64, 67, 0.15);\n",
              "      fill: #174EA6;\n",
              "    }\n",
              "\n",
              "    .colab-df-buttons div {\n",
              "      margin-bottom: 4px;\n",
              "    }\n",
              "\n",
              "    [theme=dark] .colab-df-convert {\n",
              "      background-color: #3B4455;\n",
              "      fill: #D2E3FC;\n",
              "    }\n",
              "\n",
              "    [theme=dark] .colab-df-convert:hover {\n",
              "      background-color: #434B5C;\n",
              "      box-shadow: 0px 1px 3px 1px rgba(0, 0, 0, 0.15);\n",
              "      filter: drop-shadow(0px 1px 2px rgba(0, 0, 0, 0.3));\n",
              "      fill: #FFFFFF;\n",
              "    }\n",
              "  </style>\n",
              "\n",
              "    <script>\n",
              "      const buttonEl =\n",
              "        document.querySelector('#df-9d2decd2-dcfa-4950-a6bc-0f24315767e5 button.colab-df-convert');\n",
              "      buttonEl.style.display =\n",
              "        google.colab.kernel.accessAllowed ? 'block' : 'none';\n",
              "\n",
              "      async function convertToInteractive(key) {\n",
              "        const element = document.querySelector('#df-9d2decd2-dcfa-4950-a6bc-0f24315767e5');\n",
              "        const dataTable =\n",
              "          await google.colab.kernel.invokeFunction('convertToInteractive',\n",
              "                                                    [key], {});\n",
              "        if (!dataTable) return;\n",
              "\n",
              "        const docLinkHtml = 'Like what you see? Visit the ' +\n",
              "          '<a target=\"_blank\" href=https://colab.research.google.com/notebooks/data_table.ipynb>data table notebook</a>'\n",
              "          + ' to learn more about interactive tables.';\n",
              "        element.innerHTML = '';\n",
              "        dataTable['output_type'] = 'display_data';\n",
              "        await google.colab.output.renderOutput(dataTable, element);\n",
              "        const docLink = document.createElement('div');\n",
              "        docLink.innerHTML = docLinkHtml;\n",
              "        element.appendChild(docLink);\n",
              "      }\n",
              "    </script>\n",
              "  </div>\n",
              "\n",
              "\n",
              "<div id=\"df-c8e4f8e7-c0d6-4e2d-b977-0767f06f3b48\">\n",
              "  <button class=\"colab-df-quickchart\" onclick=\"quickchart('df-c8e4f8e7-c0d6-4e2d-b977-0767f06f3b48')\"\n",
              "            title=\"Suggest charts\"\n",
              "            style=\"display:none;\">\n",
              "\n",
              "<svg xmlns=\"http://www.w3.org/2000/svg\" height=\"24px\"viewBox=\"0 0 24 24\"\n",
              "     width=\"24px\">\n",
              "    <g>\n",
              "        <path d=\"M19 3H5c-1.1 0-2 .9-2 2v14c0 1.1.9 2 2 2h14c1.1 0 2-.9 2-2V5c0-1.1-.9-2-2-2zM9 17H7v-7h2v7zm4 0h-2V7h2v10zm4 0h-2v-4h2v4z\"/>\n",
              "    </g>\n",
              "</svg>\n",
              "  </button>\n",
              "\n",
              "<style>\n",
              "  .colab-df-quickchart {\n",
              "      --bg-color: #E8F0FE;\n",
              "      --fill-color: #1967D2;\n",
              "      --hover-bg-color: #E2EBFA;\n",
              "      --hover-fill-color: #174EA6;\n",
              "      --disabled-fill-color: #AAA;\n",
              "      --disabled-bg-color: #DDD;\n",
              "  }\n",
              "\n",
              "  [theme=dark] .colab-df-quickchart {\n",
              "      --bg-color: #3B4455;\n",
              "      --fill-color: #D2E3FC;\n",
              "      --hover-bg-color: #434B5C;\n",
              "      --hover-fill-color: #FFFFFF;\n",
              "      --disabled-bg-color: #3B4455;\n",
              "      --disabled-fill-color: #666;\n",
              "  }\n",
              "\n",
              "  .colab-df-quickchart {\n",
              "    background-color: var(--bg-color);\n",
              "    border: none;\n",
              "    border-radius: 50%;\n",
              "    cursor: pointer;\n",
              "    display: none;\n",
              "    fill: var(--fill-color);\n",
              "    height: 32px;\n",
              "    padding: 0;\n",
              "    width: 32px;\n",
              "  }\n",
              "\n",
              "  .colab-df-quickchart:hover {\n",
              "    background-color: var(--hover-bg-color);\n",
              "    box-shadow: 0 1px 2px rgba(60, 64, 67, 0.3), 0 1px 3px 1px rgba(60, 64, 67, 0.15);\n",
              "    fill: var(--button-hover-fill-color);\n",
              "  }\n",
              "\n",
              "  .colab-df-quickchart-complete:disabled,\n",
              "  .colab-df-quickchart-complete:disabled:hover {\n",
              "    background-color: var(--disabled-bg-color);\n",
              "    fill: var(--disabled-fill-color);\n",
              "    box-shadow: none;\n",
              "  }\n",
              "\n",
              "  .colab-df-spinner {\n",
              "    border: 2px solid var(--fill-color);\n",
              "    border-color: transparent;\n",
              "    border-bottom-color: var(--fill-color);\n",
              "    animation:\n",
              "      spin 1s steps(1) infinite;\n",
              "  }\n",
              "\n",
              "  @keyframes spin {\n",
              "    0% {\n",
              "      border-color: transparent;\n",
              "      border-bottom-color: var(--fill-color);\n",
              "      border-left-color: var(--fill-color);\n",
              "    }\n",
              "    20% {\n",
              "      border-color: transparent;\n",
              "      border-left-color: var(--fill-color);\n",
              "      border-top-color: var(--fill-color);\n",
              "    }\n",
              "    30% {\n",
              "      border-color: transparent;\n",
              "      border-left-color: var(--fill-color);\n",
              "      border-top-color: var(--fill-color);\n",
              "      border-right-color: var(--fill-color);\n",
              "    }\n",
              "    40% {\n",
              "      border-color: transparent;\n",
              "      border-right-color: var(--fill-color);\n",
              "      border-top-color: var(--fill-color);\n",
              "    }\n",
              "    60% {\n",
              "      border-color: transparent;\n",
              "      border-right-color: var(--fill-color);\n",
              "    }\n",
              "    80% {\n",
              "      border-color: transparent;\n",
              "      border-right-color: var(--fill-color);\n",
              "      border-bottom-color: var(--fill-color);\n",
              "    }\n",
              "    90% {\n",
              "      border-color: transparent;\n",
              "      border-bottom-color: var(--fill-color);\n",
              "    }\n",
              "  }\n",
              "</style>\n",
              "\n",
              "  <script>\n",
              "    async function quickchart(key) {\n",
              "      const quickchartButtonEl =\n",
              "        document.querySelector('#' + key + ' button');\n",
              "      quickchartButtonEl.disabled = true;  // To prevent multiple clicks.\n",
              "      quickchartButtonEl.classList.add('colab-df-spinner');\n",
              "      try {\n",
              "        const charts = await google.colab.kernel.invokeFunction(\n",
              "            'suggestCharts', [key], {});\n",
              "      } catch (error) {\n",
              "        console.error('Error during call to suggestCharts:', error);\n",
              "      }\n",
              "      quickchartButtonEl.classList.remove('colab-df-spinner');\n",
              "      quickchartButtonEl.classList.add('colab-df-quickchart-complete');\n",
              "    }\n",
              "    (() => {\n",
              "      let quickchartButtonEl =\n",
              "        document.querySelector('#df-c8e4f8e7-c0d6-4e2d-b977-0767f06f3b48 button');\n",
              "      quickchartButtonEl.style.display =\n",
              "        google.colab.kernel.accessAllowed ? 'block' : 'none';\n",
              "    })();\n",
              "  </script>\n",
              "</div>\n",
              "\n",
              "    </div>\n",
              "  </div>\n"
            ],
            "application/vnd.google.colaboratory.intrinsic+json": {
              "type": "dataframe",
              "variable_name": "test_data"
            }
          },
          "metadata": {},
          "execution_count": 67
        }
      ]
    },
    {
      "cell_type": "code",
      "source": [
        "df.info()\n",
        "test_data.info()"
      ],
      "metadata": {
        "id": "m2IXMzpSeD7l"
      },
      "execution_count": null,
      "outputs": []
    },
    {
      "cell_type": "code",
      "source": [
        "df.describe()\n",
        "test_data.describe()"
      ],
      "metadata": {
        "id": "iM9FToZ2eF9s"
      },
      "execution_count": null,
      "outputs": []
    },
    {
      "cell_type": "code",
      "source": [
        "df.shape"
      ],
      "metadata": {
        "colab": {
          "base_uri": "https://localhost:8080/"
        },
        "id": "TOrl1TujeI37",
        "outputId": "5a6acdaf-a70a-44e9-b7b5-244324d0ca08"
      },
      "execution_count": null,
      "outputs": [
        {
          "output_type": "execute_result",
          "data": {
            "text/plain": [
              "(6468, 38)"
            ]
          },
          "metadata": {},
          "execution_count": 7
        }
      ]
    },
    {
      "cell_type": "code",
      "source": [
        "test_data.shape"
      ],
      "metadata": {
        "colab": {
          "base_uri": "https://localhost:8080/"
        },
        "id": "mLdL47Fdi1y3",
        "outputId": "2b901610-d68c-43d1-de0d-f87d7996fc06"
      },
      "execution_count": null,
      "outputs": [
        {
          "output_type": "execute_result",
          "data": {
            "text/plain": [
              "(2772, 37)"
            ]
          },
          "metadata": {},
          "execution_count": 8
        }
      ]
    },
    {
      "cell_type": "markdown",
      "source": [
        "Checking Null count %"
      ],
      "metadata": {
        "id": "7aCCxkwEPFAt"
      }
    },
    {
      "cell_type": "code",
      "source": [
        "round(100*(df.isnull().sum()/len(df)), 2).sort_values(ascending=False)"
      ],
      "metadata": {
        "id": "O7vl9eBdeLWL",
        "colab": {
          "base_uri": "https://localhost:8080/"
        },
        "outputId": "41f04646-0451-45fd-da89-ab585f61caab"
      },
      "execution_count": null,
      "outputs": [
        {
          "output_type": "execute_result",
          "data": {
            "text/plain": [
              "Lead Quality                                     51.16\n",
              "Asymmetrique Profile Score                       45.35\n",
              "Asymmetrique Activity Score                      45.35\n",
              "Asymmetrique Profile Index                       45.35\n",
              "Asymmetrique Activity Index                      45.35\n",
              "Tags                                             35.96\n",
              "Lead Profile                                     28.87\n",
              "What matters most to you in choosing a course    28.87\n",
              "What is your current occupation                  28.66\n",
              "Country                                          26.79\n",
              "How did you hear about X Education               23.55\n",
              "Specialization                                   15.37\n",
              "City                                             15.15\n",
              "TotalVisits                                       1.56\n",
              "Page Views Per Visit                              1.56\n",
              "Last Activity                                     1.14\n",
              "Lead Source                                       0.40\n",
              "Receive More Updates About Our Courses            0.00\n",
              "I agree to pay the amount through cheque          0.00\n",
              "Get updates on DM Content                         0.00\n",
              "Update me on Supply Chain Content                 0.00\n",
              "A free copy of Mastering The Interview            0.00\n",
              "Id                                                0.00\n",
              "Newspaper Article                                 0.00\n",
              "Through Recommendations                           0.00\n",
              "Digital Advertisement                             0.00\n",
              "Newspaper                                         0.00\n",
              "X Education Forums                                0.00\n",
              "Prospect ID                                       0.00\n",
              "Magazine                                          0.00\n",
              "Search                                            0.00\n",
              "Total Time Spent on Website                       0.00\n",
              "Converted                                         0.00\n",
              "Do Not Call                                       0.00\n",
              "Do Not Email                                      0.00\n",
              "Lead Origin                                       0.00\n",
              "Lead Number                                       0.00\n",
              "Last Notable Activity                             0.00\n",
              "dtype: float64"
            ]
          },
          "metadata": {},
          "execution_count": 68
        }
      ]
    },
    {
      "cell_type": "code",
      "source": [
        "round(100*(test_data.isnull().sum()/len(test_data)), 2).sort_values(ascending=False)"
      ],
      "metadata": {
        "id": "M2dMEPlueMGC",
        "colab": {
          "base_uri": "https://localhost:8080/"
        },
        "outputId": "35797364-b801-4aed-e547-cd0434bab76f"
      },
      "execution_count": null,
      "outputs": [
        {
          "output_type": "execute_result",
          "data": {
            "text/plain": [
              "Lead Quality                                     52.60\n",
              "Asymmetrique Activity Index                      46.36\n",
              "Asymmetrique Profile Score                       46.36\n",
              "Asymmetrique Activity Score                      46.36\n",
              "Asymmetrique Profile Index                       46.36\n",
              "Tags                                             37.05\n",
              "Lead Profile                                     30.38\n",
              "What matters most to you in choosing a course    30.38\n",
              "What is your current occupation                  30.16\n",
              "Country                                          26.26\n",
              "How did you hear about X Education               24.68\n",
              "Specialization                                   16.02\n",
              "City                                             15.87\n",
              "Page Views Per Visit                              1.30\n",
              "TotalVisits                                       1.30\n",
              "Last Activity                                     1.05\n",
              "Lead Source                                       0.36\n",
              "Receive More Updates About Our Courses            0.00\n",
              "I agree to pay the amount through cheque          0.00\n",
              "Get updates on DM Content                         0.00\n",
              "Update me on Supply Chain Content                 0.00\n",
              "A free copy of Mastering The Interview            0.00\n",
              "Id                                                0.00\n",
              "Newspaper Article                                 0.00\n",
              "Through Recommendations                           0.00\n",
              "Digital Advertisement                             0.00\n",
              "Newspaper                                         0.00\n",
              "X Education Forums                                0.00\n",
              "Prospect ID                                       0.00\n",
              "Magazine                                          0.00\n",
              "Search                                            0.00\n",
              "Total Time Spent on Website                       0.00\n",
              "Do Not Call                                       0.00\n",
              "Do Not Email                                      0.00\n",
              "Lead Origin                                       0.00\n",
              "Lead Number                                       0.00\n",
              "Last Notable Activity                             0.00\n",
              "dtype: float64"
            ]
          },
          "metadata": {},
          "execution_count": 69
        }
      ]
    },
    {
      "cell_type": "markdown",
      "source": [
        "Checking Value count of Target Variable"
      ],
      "metadata": {
        "id": "y_ZjdwJ7PNzM"
      }
    },
    {
      "cell_type": "code",
      "source": [
        "df.Converted.value_counts(normalize=True)"
      ],
      "metadata": {
        "colab": {
          "base_uri": "https://localhost:8080/"
        },
        "id": "50Qa0K-Wej0y",
        "outputId": "839b9039-2a53-4d0b-827e-78164233ba3d"
      },
      "execution_count": null,
      "outputs": [
        {
          "output_type": "execute_result",
          "data": {
            "text/plain": [
              "Converted\n",
              "0    0.614564\n",
              "1    0.385436\n",
              "Name: proportion, dtype: float64"
            ]
          },
          "metadata": {},
          "execution_count": 11
        }
      ]
    },
    {
      "cell_type": "code",
      "source": [
        "df[\"Do Not Call\"].value_counts(dropna=False)"
      ],
      "metadata": {
        "colab": {
          "base_uri": "https://localhost:8080/"
        },
        "id": "XT3YAKzfFoSh",
        "outputId": "63740068-59a5-4fc8-d68c-d6198cf78d2a"
      },
      "execution_count": null,
      "outputs": [
        {
          "output_type": "execute_result",
          "data": {
            "text/plain": [
              "Do Not Call\n",
              "No     6466\n",
              "Yes       2\n",
              "Name: count, dtype: int64"
            ]
          },
          "metadata": {},
          "execution_count": 12
        }
      ]
    },
    {
      "cell_type": "code",
      "source": [
        "for col in df:\n",
        "    print(df[col].value_counts(ascending=False), '\\n\\n\\n')"
      ],
      "metadata": {
        "id": "_QDsSq4kem8q"
      },
      "execution_count": null,
      "outputs": []
    },
    {
      "cell_type": "code",
      "source": [
        "df_dup = df.copy()\n",
        "td_dup = test_data.copy()"
      ],
      "metadata": {
        "id": "PQJ8Qx_xesyx"
      },
      "execution_count": null,
      "outputs": []
    },
    {
      "cell_type": "code",
      "source": [
        "columns_to_drop = ['Id', 'Prospect ID', 'Lead Number', 'What matters most to you in choosing a course', 'Magazine',\n",
        "       'Newspaper Article', 'X Education Forums', 'Newspaper',\n",
        "       'Digital Advertisement', 'Through Recommendations',\n",
        "       'Receive More Updates About Our Courses',\n",
        "       'Update me on Supply Chain Content', 'Get updates on DM Content',\n",
        "       'I agree to pay the amount through cheque']\n",
        "# 'Do Not Call'"
      ],
      "metadata": {
        "id": "0T9eLk6te19x"
      },
      "execution_count": null,
      "outputs": []
    },
    {
      "cell_type": "code",
      "source": [
        "df_dummy = df_dup.drop(columns=[col for col in df.columns if col in columns_to_drop])\n",
        "td_dummy = td_dup.drop(columns=[col for col in test_data.columns if col in columns_to_drop])"
      ],
      "metadata": {
        "id": "cMerE3MXe4s7"
      },
      "execution_count": null,
      "outputs": []
    },
    {
      "cell_type": "code",
      "source": [
        "df_dummy.shape"
      ],
      "metadata": {
        "colab": {
          "base_uri": "https://localhost:8080/"
        },
        "id": "crwMiH6pfJOi",
        "outputId": "a9a2d53c-b6ea-4ebf-e372-361fab6f194f"
      },
      "execution_count": null,
      "outputs": [
        {
          "output_type": "execute_result",
          "data": {
            "text/plain": [
              "(6468, 24)"
            ]
          },
          "metadata": {},
          "execution_count": 17
        }
      ]
    },
    {
      "cell_type": "code",
      "source": [
        "td_dummy.shape"
      ],
      "metadata": {
        "colab": {
          "base_uri": "https://localhost:8080/"
        },
        "id": "-bx6PSMQjC8w",
        "outputId": "0fc5cc75-9af0-49a1-86c1-056541056c47"
      },
      "execution_count": null,
      "outputs": [
        {
          "output_type": "execute_result",
          "data": {
            "text/plain": [
              "(2772, 23)"
            ]
          },
          "metadata": {},
          "execution_count": 18
        }
      ]
    },
    {
      "cell_type": "markdown",
      "source": [
        "Filling the NULL values"
      ],
      "metadata": {
        "id": "tsRMSqVVPYDl"
      }
    },
    {
      "cell_type": "code",
      "source": [
        "df[\"Lead Quality\"].value_counts(dropna=False)"
      ],
      "metadata": {
        "colab": {
          "base_uri": "https://localhost:8080/"
        },
        "id": "pNdI9GMSUg-M",
        "outputId": "404be5b4-35fe-427b-dff9-4ef61567f23b"
      },
      "execution_count": null,
      "outputs": [
        {
          "output_type": "execute_result",
          "data": {
            "text/plain": [
              "Lead Quality\n",
              "NaN                  3309\n",
              "Might be             1123\n",
              "Not Sure              761\n",
              "High in Relevance     446\n",
              "Worst                 420\n",
              "Low in Relevance      409\n",
              "Name: count, dtype: int64"
            ]
          },
          "metadata": {},
          "execution_count": 70
        }
      ]
    },
    {
      "cell_type": "code",
      "source": [
        "df_dummy[\"Lead Quality\"].value_counts(dropna=False)\n",
        "df_dummy[\"Lead Quality\"].fillna(\"None\",inplace=True)"
      ],
      "metadata": {
        "id": "NVC1v1mcQrCp"
      },
      "execution_count": null,
      "outputs": []
    },
    {
      "cell_type": "code",
      "source": [
        "df_dummy[\"Asymmetrique Profile Score\"].value_counts(dropna=False)\n",
        "df_dummy[\"Asymmetrique Activity Score\"].value_counts(dropna=False)\n",
        "df_dummy[\"Asymmetrique Activity Index\"].value_counts(dropna=False)\n",
        "df_dummy[\"Asymmetrique Profile Index\"].value_counts(dropna=False)"
      ],
      "metadata": {
        "id": "DaFwXNTE0uRz",
        "colab": {
          "base_uri": "https://localhost:8080/"
        },
        "outputId": "39033422-1484-40bc-a6fe-71b8dc5868f0"
      },
      "execution_count": null,
      "outputs": [
        {
          "output_type": "execute_result",
          "data": {
            "text/plain": [
              "Asymmetrique Profile Index\n",
              "NaN          2933\n",
              "02.Medium    1977\n",
              "01.High      1535\n",
              "03.Low         23\n",
              "Name: count, dtype: int64"
            ]
          },
          "metadata": {},
          "execution_count": 20
        }
      ]
    },
    {
      "cell_type": "code",
      "source": [
        "df_dummy[\"Asymmetrique Profile Score\"].median()\n",
        "df_dummy[\"Asymmetrique Activity Score\"].median()\n",
        "df_dummy[\"Asymmetrique Activity Index\"].mode()\n",
        "df_dummy[\"Asymmetrique Profile Index\"].mode()"
      ],
      "metadata": {
        "id": "vrx_eHw9NSpT",
        "colab": {
          "base_uri": "https://localhost:8080/"
        },
        "outputId": "dc5e85d9-3d4c-45ee-b349-9ff091a7ff05"
      },
      "execution_count": null,
      "outputs": [
        {
          "output_type": "execute_result",
          "data": {
            "text/plain": [
              "0    02.Medium\n",
              "Name: Asymmetrique Profile Index, dtype: object"
            ]
          },
          "metadata": {},
          "execution_count": 21
        }
      ]
    },
    {
      "cell_type": "code",
      "source": [
        "df_dummy[\"Asymmetrique Profile Score\"].fillna(df_dummy[\"Asymmetrique Profile Score\"].median(),inplace=True)\n",
        "df_dummy[\"Asymmetrique Activity Score\"].fillna(df_dummy[\"Asymmetrique Activity Score\"].median(),inplace=True)\n",
        "df_dummy[\"Asymmetrique Activity Index\"].fillna(\"02.Medium\",inplace=True)\n",
        "df_dummy[\"Asymmetrique Profile Index\"].fillna(\"02.Medium\",inplace=True)"
      ],
      "metadata": {
        "id": "eOkAayivMkIL"
      },
      "execution_count": null,
      "outputs": []
    },
    {
      "cell_type": "code",
      "source": [
        "df_dummy[\"Tags\"].value_counts(dropna=False)\n",
        "df_dummy[\"Tags\"].fillna(\"None\",inplace=True)"
      ],
      "metadata": {
        "id": "zKzLYTGTRYFx"
      },
      "execution_count": null,
      "outputs": []
    },
    {
      "cell_type": "code",
      "source": [
        "df_dummy[\"Lead Profile\"].value_counts(dropna=False)\n",
        "df_dummy[\"Lead Profile\"].fillna(\"None\",inplace=True)"
      ],
      "metadata": {
        "id": "bYkXiHHxSI4g"
      },
      "execution_count": null,
      "outputs": []
    },
    {
      "cell_type": "code",
      "source": [
        "df_dummy[\"What is your current occupation\"].value_counts(dropna=False)\n",
        "df_dummy[\"What is your current occupation\"].mode()\n",
        "df_dummy[\"What is your current occupation\"].fillna(\"Unemployed\",inplace=True)"
      ],
      "metadata": {
        "id": "NYgLgNqeSvzu"
      },
      "execution_count": null,
      "outputs": []
    },
    {
      "cell_type": "code",
      "source": [
        "df_dummy[\"Country\"].value_counts(dropna=False)\n",
        "df_dummy[\"Country\"].fillna(\"None\",inplace=True)"
      ],
      "metadata": {
        "id": "MwiOvDuSXiuv"
      },
      "execution_count": null,
      "outputs": []
    },
    {
      "cell_type": "code",
      "source": [
        "df_dummy[\"How did you hear about X Education\"].value_counts(dropna=False)\n",
        "df_dummy[\"How did you hear about X Education\"].fillna(\"None\",inplace=True)"
      ],
      "metadata": {
        "id": "qEnaFcBSY9bZ"
      },
      "execution_count": null,
      "outputs": []
    },
    {
      "cell_type": "code",
      "source": [
        "df_dummy[\"Specialization\"].value_counts(dropna=False)\n",
        "df_dummy[\"Specialization\"].fillna(\"None\",inplace=True)"
      ],
      "metadata": {
        "id": "dLsjnMXGZfhM"
      },
      "execution_count": null,
      "outputs": []
    },
    {
      "cell_type": "code",
      "source": [
        "df_dummy[\"City\"].value_counts(dropna=False)\n",
        "df_dummy[\"City\"].fillna(\"None\",inplace=True)"
      ],
      "metadata": {
        "id": "FOrcqG3vZyXs"
      },
      "execution_count": null,
      "outputs": []
    },
    {
      "cell_type": "code",
      "source": [
        "df_dummy[\"TotalVisits\"].value_counts(dropna=False)\n",
        "df_dummy[\"TotalVisits\"].fillna(df_dummy[\"TotalVisits\"].median(),inplace=True)"
      ],
      "metadata": {
        "id": "7Iq45qYzaG8V"
      },
      "execution_count": null,
      "outputs": []
    },
    {
      "cell_type": "code",
      "source": [
        "df_dummy[\"Page Views Per Visit\"].value_counts(dropna=False)\n",
        "df_dummy[\"Page Views Per Visit\"].fillna(df_dummy[\"Page Views Per Visit\"].mean(),inplace=True)"
      ],
      "metadata": {
        "id": "yoNEb6tfaPzL"
      },
      "execution_count": null,
      "outputs": []
    },
    {
      "cell_type": "code",
      "source": [
        "df_dummy[\"Last Activity\"].value_counts(dropna=False)\n",
        "df_dummy[\"Last Activity\"].fillna(\"Email Opened\",inplace=True)"
      ],
      "metadata": {
        "id": "6wMniFzMaua7"
      },
      "execution_count": null,
      "outputs": []
    },
    {
      "cell_type": "code",
      "source": [
        "df_dummy[\"Lead Source\"].value_counts(dropna=False)\n",
        "df_dummy[\"Lead Source\"].fillna(\"Google\",inplace=True)"
      ],
      "metadata": {
        "id": "r05TnQ3mbUUq"
      },
      "execution_count": null,
      "outputs": []
    },
    {
      "cell_type": "code",
      "source": [
        "td_dummy[\"Lead Quality\"].value_counts(dropna=False)\n",
        "td_dummy[\"Lead Quality\"].fillna(\"None\",inplace=True)"
      ],
      "metadata": {
        "id": "Qda44lbEfw-Q"
      },
      "execution_count": null,
      "outputs": []
    },
    {
      "cell_type": "code",
      "source": [
        "td_dummy[\"Asymmetrique Profile Score\"].value_counts(dropna=False)\n",
        "td_dummy[\"Asymmetrique Activity Score\"].value_counts(dropna=False)\n",
        "td_dummy[\"Asymmetrique Activity Index\"].value_counts(dropna=False)\n",
        "td_dummy[\"Asymmetrique Profile Index\"].value_counts(dropna=False)"
      ],
      "metadata": {
        "id": "jAtBPUFTfw-a"
      },
      "execution_count": null,
      "outputs": []
    },
    {
      "cell_type": "code",
      "source": [
        "td_dummy[\"Asymmetrique Profile Score\"].median()\n",
        "td_dummy[\"Asymmetrique Activity Score\"].median()\n",
        "td_dummy[\"Asymmetrique Activity Index\"].mode()\n",
        "td_dummy[\"Asymmetrique Profile Index\"].mode()"
      ],
      "metadata": {
        "id": "5MPzOI48fw-b"
      },
      "execution_count": null,
      "outputs": []
    },
    {
      "cell_type": "code",
      "source": [
        "td_dummy[\"Asymmetrique Profile Score\"].fillna(td_dummy[\"Asymmetrique Profile Score\"].median(),inplace=True)\n",
        "td_dummy[\"Asymmetrique Activity Score\"].fillna(td_dummy[\"Asymmetrique Activity Score\"].median(),inplace=True)\n",
        "td_dummy[\"Asymmetrique Activity Index\"].fillna(\"02.Medium\",inplace=True)\n",
        "td_dummy[\"Asymmetrique Profile Index\"].fillna(\"02.Medium\",inplace=True)"
      ],
      "metadata": {
        "id": "EC53Vtnmfw-b"
      },
      "execution_count": null,
      "outputs": []
    },
    {
      "cell_type": "code",
      "source": [
        "td_dummy[\"Tags\"].value_counts(dropna=False)\n",
        "td_dummy[\"Tags\"].fillna(\"None\",inplace=True)"
      ],
      "metadata": {
        "id": "3IcmiBHmfw-b"
      },
      "execution_count": null,
      "outputs": []
    },
    {
      "cell_type": "code",
      "source": [
        "td_dummy[\"Lead Profile\"].value_counts(dropna=False)\n",
        "td_dummy[\"Lead Profile\"].fillna(\"None\",inplace=True)"
      ],
      "metadata": {
        "id": "ky6U7is2fw-b"
      },
      "execution_count": null,
      "outputs": []
    },
    {
      "cell_type": "code",
      "source": [
        "td_dummy[\"What is your current occupation\"].value_counts(dropna=False)\n",
        "td_dummy[\"What is your current occupation\"].mode()\n",
        "td_dummy[\"What is your current occupation\"].fillna(\"Unemployed\",inplace=True)"
      ],
      "metadata": {
        "id": "rk36jiMlfw-b"
      },
      "execution_count": null,
      "outputs": []
    },
    {
      "cell_type": "code",
      "source": [
        "td_dummy[\"Country\"].value_counts(dropna=False)\n",
        "td_dummy[\"Country\"].fillna(\"None\",inplace=True)"
      ],
      "metadata": {
        "id": "HXDJJambfw-b"
      },
      "execution_count": null,
      "outputs": []
    },
    {
      "cell_type": "code",
      "source": [
        "td_dummy[\"How did you hear about X Education\"].value_counts(dropna=False)\n",
        "td_dummy[\"How did you hear about X Education\"].fillna(\"None\",inplace=True)"
      ],
      "metadata": {
        "id": "wykXPMW4fw-c"
      },
      "execution_count": null,
      "outputs": []
    },
    {
      "cell_type": "code",
      "source": [
        "td_dummy[\"Specialization\"].value_counts(dropna=False)\n",
        "td_dummy[\"Specialization\"].fillna(\"None\",inplace=True)"
      ],
      "metadata": {
        "id": "PWHLNbyDfw-c"
      },
      "execution_count": null,
      "outputs": []
    },
    {
      "cell_type": "code",
      "source": [
        "td_dummy[\"City\"].value_counts(dropna=False)\n",
        "td_dummy[\"City\"].fillna(\"None\",inplace=True)"
      ],
      "metadata": {
        "id": "qsW02BoIfw-d"
      },
      "execution_count": null,
      "outputs": []
    },
    {
      "cell_type": "code",
      "source": [
        "td_dummy[\"TotalVisits\"].value_counts(dropna=False)\n",
        "td_dummy[\"TotalVisits\"].fillna(td_dummy[\"TotalVisits\"].median(),inplace=True)"
      ],
      "metadata": {
        "id": "vN3l_vCxfw-d"
      },
      "execution_count": null,
      "outputs": []
    },
    {
      "cell_type": "code",
      "source": [
        "td_dummy[\"Page Views Per Visit\"].value_counts(dropna=False)\n",
        "td_dummy[\"Page Views Per Visit\"].fillna(td_dummy[\"Page Views Per Visit\"].mean(),inplace=True)"
      ],
      "metadata": {
        "id": "2_GZnkp6fw-d"
      },
      "execution_count": null,
      "outputs": []
    },
    {
      "cell_type": "code",
      "source": [
        "td_dummy[\"Last Activity\"].value_counts(dropna=False)\n",
        "td_dummy[\"Last Activity\"].fillna(\"Email Opened\",inplace=True)"
      ],
      "metadata": {
        "id": "Cafedl8xfw-d"
      },
      "execution_count": null,
      "outputs": []
    },
    {
      "cell_type": "code",
      "source": [
        "td_dummy[\"Lead Source\"].value_counts(dropna=False)\n",
        "td_dummy[\"Lead Source\"].fillna(\"Google\",inplace=True)"
      ],
      "metadata": {
        "id": "biaq3_QGfw-d"
      },
      "execution_count": null,
      "outputs": []
    },
    {
      "cell_type": "code",
      "source": [
        "df_dummy[\"Lead Source\"].replace('google','Google',inplace=True)\n",
        "td_dummy[\"Lead Source\"].replace('google','Google',inplace=True)"
      ],
      "metadata": {
        "id": "tXqI5NkNgnr7"
      },
      "execution_count": null,
      "outputs": []
    },
    {
      "cell_type": "code",
      "source": [
        "df_dummy['Do Not Email'] = df_dummy['Do Not Email'].replace({'Yes': 1, 'No': 0})\n",
        "df_dummy['Search'] = df_dummy['Search'].replace({'Yes': 1, 'No': 0})\n",
        "df_dummy['A free copy of Mastering The Interview'] = df_dummy['A free copy of Mastering The Interview'].replace({'Yes': 1, 'No': 0})\n",
        "df_dummy['Do Not Call'] = df_dummy['Do Not Call'].replace({'Yes': 1, 'No': 0})"
      ],
      "metadata": {
        "id": "zciZxl23gvQa"
      },
      "execution_count": null,
      "outputs": []
    },
    {
      "cell_type": "code",
      "source": [
        "td_dummy['Do Not Email'] = td_dummy['Do Not Email'].replace({'Yes': 1, 'No': 0})\n",
        "td_dummy['Search'] = td_dummy['Search'].replace({'Yes': 1, 'No': 0})\n",
        "td_dummy['A free copy of Mastering The Interview'] = td_dummy['A free copy of Mastering The Interview'].replace({'Yes': 1, 'No': 0})\n",
        "td_dummy['Do Not Call'] = td_dummy['Do Not Call'].replace({'Yes': 1, 'No': 0})"
      ],
      "metadata": {
        "id": "5vLLVBdRgwBj"
      },
      "execution_count": null,
      "outputs": []
    },
    {
      "cell_type": "markdown",
      "source": [
        "Label Encoding"
      ],
      "metadata": {
        "id": "rsAse2miPySM"
      }
    },
    {
      "cell_type": "code",
      "source": [
        "from sklearn import preprocessing\n",
        "label_encoder = preprocessing.LabelEncoder()\n",
        "df_dummy['Asymmetrique Activity Index']= label_encoder.fit_transform(df_dummy['Asymmetrique Activity Index'])\n",
        "df_dummy['Asymmetrique Activity Index'].unique()\n",
        "df_dummy['Asymmetrique Profile Index']= label_encoder.fit_transform(df_dummy['Asymmetrique Profile Index'])\n",
        "df_dummy['Asymmetrique Profile Index'].unique()"
      ],
      "metadata": {
        "colab": {
          "base_uri": "https://localhost:8080/"
        },
        "id": "67aB3qstg5Ny",
        "outputId": "50df1101-f846-4e22-e24f-9662c52f1f56"
      },
      "execution_count": null,
      "outputs": [
        {
          "output_type": "execute_result",
          "data": {
            "text/plain": [
              "array([0, 1, 2])"
            ]
          },
          "metadata": {},
          "execution_count": 71
        }
      ]
    },
    {
      "cell_type": "code",
      "source": [
        "df_dummy['Asymmetrique Activity Index']"
      ],
      "metadata": {
        "id": "A9yhbqSaXtLH"
      },
      "execution_count": null,
      "outputs": []
    },
    {
      "cell_type": "code",
      "source": [
        "label_encoder.inverse_transform([0])"
      ],
      "metadata": {
        "colab": {
          "base_uri": "https://localhost:8080/"
        },
        "id": "P37pKIfTXJk6",
        "outputId": "4fe7d3e9-4bc0-4e45-87d3-dcef98fe18a4"
      },
      "execution_count": null,
      "outputs": [
        {
          "output_type": "execute_result",
          "data": {
            "text/plain": [
              "array([0])"
            ]
          },
          "metadata": {},
          "execution_count": 78
        }
      ]
    },
    {
      "cell_type": "code",
      "source": [
        "from sklearn import preprocessing\n",
        "label_encoder = preprocessing.LabelEncoder()\n",
        "td_dummy['Asymmetrique Activity Index']= label_encoder.fit_transform(td_dummy['Asymmetrique Activity Index'])\n",
        "td_dummy['Asymmetrique Activity Index'].unique()\n",
        "td_dummy['Asymmetrique Profile Index']= label_encoder.fit_transform(td_dummy['Asymmetrique Profile Index'])\n",
        "td_dummy['Asymmetrique Profile Index'].unique()"
      ],
      "metadata": {
        "colab": {
          "base_uri": "https://localhost:8080/"
        },
        "id": "HnKnYoNug6Uw",
        "outputId": "bdf9dd51-272a-41f4-bb85-56e71418786f"
      },
      "execution_count": null,
      "outputs": [
        {
          "output_type": "execute_result",
          "data": {
            "text/plain": [
              "array([1, 0, 2])"
            ]
          },
          "metadata": {},
          "execution_count": 72
        }
      ]
    },
    {
      "cell_type": "markdown",
      "source": [
        "One Hot Encoding"
      ],
      "metadata": {
        "id": "EaywK5mXP3GV"
      }
    },
    {
      "cell_type": "code",
      "source": [
        "import pandas as pd\n",
        "from sklearn.preprocessing import OneHotEncoder\n",
        "\n",
        "categorical_columns = df_dummy.select_dtypes(include=['object']).columns.tolist()\n",
        "\n",
        "encoder = OneHotEncoder(sparse_output=False)\n",
        "\n",
        "one_hot_encoded = encoder.fit_transform(df_dummy[categorical_columns])\n",
        "\n",
        "one_hot_df = pd.DataFrame(one_hot_encoded, columns=encoder.get_feature_names_out(categorical_columns))\n",
        "\n",
        "df_encoded = pd.concat([df_dummy, one_hot_df], axis=1)\n",
        "\n",
        "df_encoded = df_encoded.drop(categorical_columns, axis=1)"
      ],
      "metadata": {
        "id": "YONIllolhJjD"
      },
      "execution_count": null,
      "outputs": []
    },
    {
      "cell_type": "code",
      "source": [
        "import pandas as pd\n",
        "from sklearn.preprocessing import OneHotEncoder\n",
        "\n",
        "categorical_columns = td_dummy.select_dtypes(include=['object']).columns.tolist()\n",
        "\n",
        "encoder = OneHotEncoder(sparse_output=False)\n",
        "\n",
        "one_hot_encoded = encoder.fit_transform(td_dummy[categorical_columns])\n",
        "\n",
        "one_hot_td = pd.DataFrame(one_hot_encoded, columns=encoder.get_feature_names_out(categorical_columns))\n",
        "\n",
        "td_encoded = pd.concat([td_dummy, one_hot_td], axis=1)\n",
        "\n",
        "td_encoded = td_encoded.drop(categorical_columns, axis=1)"
      ],
      "metadata": {
        "id": "-MBtcdnIhKLC"
      },
      "execution_count": null,
      "outputs": []
    },
    {
      "cell_type": "markdown",
      "source": [
        "Removing Extra columns"
      ],
      "metadata": {
        "id": "qgfvEHSGQBwu"
      }
    },
    {
      "cell_type": "code",
      "source": [
        "extra_cols = df_encoded.columns.difference(td_encoded.columns)\n",
        "extra_cols = extra_cols.drop(\"Converted\")\n",
        "df_encoded = df_encoded.drop(extra_cols, axis=1)"
      ],
      "metadata": {
        "id": "VYmHPdi5n8P-"
      },
      "execution_count": null,
      "outputs": []
    },
    {
      "cell_type": "code",
      "source": [
        "extra_cols"
      ],
      "metadata": {
        "id": "dTHUu_1ttJBD",
        "colab": {
          "base_uri": "https://localhost:8080/"
        },
        "outputId": "a9fe0261-5502-4259-9f59-291acd7c3dfd"
      },
      "execution_count": null,
      "outputs": [
        {
          "output_type": "execute_result",
          "data": {
            "text/plain": [
              "Index([], dtype='object')"
            ]
          },
          "metadata": {},
          "execution_count": 81
        }
      ]
    },
    {
      "cell_type": "code",
      "source": [
        "extra_cols = td_encoded.columns.difference(df_encoded.columns)\n",
        "td_encoded = td_encoded.drop(extra_cols, axis=1)"
      ],
      "metadata": {
        "id": "jg6n9SlvoGpB"
      },
      "execution_count": null,
      "outputs": []
    },
    {
      "cell_type": "code",
      "source": [
        "df_encoded.shape"
      ],
      "metadata": {
        "colab": {
          "base_uri": "https://localhost:8080/"
        },
        "id": "CcWTdXnDorpO",
        "outputId": "449a6024-63fe-490e-d853-6a595f18a657"
      },
      "execution_count": null,
      "outputs": [
        {
          "output_type": "execute_result",
          "data": {
            "text/plain": [
              "(6468, 157)"
            ]
          },
          "metadata": {},
          "execution_count": 59
        }
      ]
    },
    {
      "cell_type": "code",
      "source": [
        "df_encoded[\"Converted\"]"
      ],
      "metadata": {
        "id": "6H83NSgvo7O2"
      },
      "execution_count": null,
      "outputs": []
    },
    {
      "cell_type": "code",
      "source": [
        "# df_none = df_encoded.columns.to_list()"
      ],
      "metadata": {
        "id": "wuJkwg7dCCkP"
      },
      "execution_count": null,
      "outputs": []
    },
    {
      "cell_type": "code",
      "source": [
        "# df_none_columns = []\n",
        "# for i in df_none:\n",
        "#   if i.endswith('None'):\n",
        "#     df_none_columns.append(i)"
      ],
      "metadata": {
        "id": "EU1tgi6iCbQ6"
      },
      "execution_count": null,
      "outputs": []
    },
    {
      "cell_type": "code",
      "source": [
        "# df_none_columns"
      ],
      "metadata": {
        "colab": {
          "base_uri": "https://localhost:8080/"
        },
        "id": "y5hDlHVmCthY",
        "outputId": "a438fddb-4d59-4760-82e1-53f51cebf484"
      },
      "execution_count": null,
      "outputs": [
        {
          "output_type": "execute_result",
          "data": {
            "text/plain": [
              "['Country_None',\n",
              " 'Specialization_None',\n",
              " 'How did you hear about X Education_None',\n",
              " 'Tags_None',\n",
              " 'Lead Quality_None',\n",
              " 'Lead Profile_None',\n",
              " 'City_None']"
            ]
          },
          "metadata": {},
          "execution_count": 76
        }
      ]
    },
    {
      "cell_type": "code",
      "source": [
        "# td_none = td_encoded.columns.to_list()"
      ],
      "metadata": {
        "id": "IyDfRVIKC32q"
      },
      "execution_count": null,
      "outputs": []
    },
    {
      "cell_type": "code",
      "source": [
        "# td_none_columns = []\n",
        "# for i in td_none:\n",
        "#   if i.endswith('None'):\n",
        "#     td_none_columns.append(i)"
      ],
      "metadata": {
        "id": "SmE9agBuC32r"
      },
      "execution_count": null,
      "outputs": []
    },
    {
      "cell_type": "code",
      "source": [
        "# td_none_columns"
      ],
      "metadata": {
        "colab": {
          "base_uri": "https://localhost:8080/"
        },
        "outputId": "87c2b3e8-8cd7-46d3-8495-66e6c0ec9c03",
        "id": "nkdJ905JC32s"
      },
      "execution_count": null,
      "outputs": [
        {
          "output_type": "execute_result",
          "data": {
            "text/plain": [
              "['Country_None',\n",
              " 'Specialization_None',\n",
              " 'How did you hear about X Education_None',\n",
              " 'Tags_None',\n",
              " 'Lead Quality_None',\n",
              " 'Lead Profile_None',\n",
              " 'City_None']"
            ]
          },
          "metadata": {},
          "execution_count": 70
        }
      ]
    },
    {
      "cell_type": "markdown",
      "source": [
        "Performing Logistic Regression"
      ],
      "metadata": {
        "id": "RatzeSwpQKb9"
      }
    },
    {
      "cell_type": "code",
      "source": [
        "help(model.fit)"
      ],
      "metadata": {
        "colab": {
          "base_uri": "https://localhost:8080/"
        },
        "id": "tiTqYVsDZ2iO",
        "outputId": "ddd41943-4577-4d66-b80c-fdf6cab6c715"
      },
      "execution_count": null,
      "outputs": [
        {
          "output_type": "stream",
          "name": "stdout",
          "text": [
            "Help on method fit in module sklearn.linear_model._logistic:\n",
            "\n",
            "fit(X, y, sample_weight=None) method of sklearn.linear_model._logistic.LogisticRegression instance\n",
            "    Fit the model according to the given training data.\n",
            "    \n",
            "    Parameters\n",
            "    ----------\n",
            "    X : {array-like, sparse matrix} of shape (n_samples, n_features)\n",
            "        Training vector, where `n_samples` is the number of samples and\n",
            "        `n_features` is the number of features.\n",
            "    \n",
            "    y : array-like of shape (n_samples,)\n",
            "        Target vector relative to X.\n",
            "    \n",
            "    sample_weight : array-like of shape (n_samples,) default=None\n",
            "        Array of weights that are assigned to individual samples.\n",
            "        If not provided, then each sample is given unit weight.\n",
            "    \n",
            "        .. versionadded:: 0.17\n",
            "           *sample_weight* support to LogisticRegression.\n",
            "    \n",
            "    Returns\n",
            "    -------\n",
            "    self\n",
            "        Fitted estimator.\n",
            "    \n",
            "    Notes\n",
            "    -----\n",
            "    The SAGA solver supports both float64 and float32 bit arrays.\n",
            "\n"
          ]
        }
      ]
    },
    {
      "cell_type": "code",
      "source": [
        "from sklearn.linear_model import LogisticRegression\n",
        "from sklearn.metrics import confusion_matrix, accuracy_score, precision_score, recall_score"
      ],
      "metadata": {
        "id": "b-S-qRHVjv8m"
      },
      "execution_count": null,
      "outputs": []
    },
    {
      "cell_type": "code",
      "source": [
        "X_train = df_encoded.drop(\"Converted\", axis=1)\n",
        "y_train = df_encoded[\"Converted\"]\n",
        "model = LogisticRegression()\n",
        "model.fit(X_train, y_train)"
      ],
      "metadata": {
        "colab": {
          "base_uri": "https://localhost:8080/",
          "height": 213
        },
        "id": "eci5kHAChrNQ",
        "outputId": "239389fd-95a3-4fa1-c375-c49d7676bbdf"
      },
      "execution_count": null,
      "outputs": [
        {
          "output_type": "stream",
          "name": "stderr",
          "text": [
            "/usr/local/lib/python3.10/dist-packages/sklearn/linear_model/_logistic.py:458: ConvergenceWarning: lbfgs failed to converge (status=1):\n",
            "STOP: TOTAL NO. of ITERATIONS REACHED LIMIT.\n",
            "\n",
            "Increase the number of iterations (max_iter) or scale the data as shown in:\n",
            "    https://scikit-learn.org/stable/modules/preprocessing.html\n",
            "Please also refer to the documentation for alternative solver options:\n",
            "    https://scikit-learn.org/stable/modules/linear_model.html#logistic-regression\n",
            "  n_iter_i = _check_optimize_result(\n"
          ]
        },
        {
          "output_type": "execute_result",
          "data": {
            "text/plain": [
              "LogisticRegression()"
            ],
            "text/html": [
              "<style>#sk-container-id-1 {color: black;background-color: white;}#sk-container-id-1 pre{padding: 0;}#sk-container-id-1 div.sk-toggleable {background-color: white;}#sk-container-id-1 label.sk-toggleable__label {cursor: pointer;display: block;width: 100%;margin-bottom: 0;padding: 0.3em;box-sizing: border-box;text-align: center;}#sk-container-id-1 label.sk-toggleable__label-arrow:before {content: \"▸\";float: left;margin-right: 0.25em;color: #696969;}#sk-container-id-1 label.sk-toggleable__label-arrow:hover:before {color: black;}#sk-container-id-1 div.sk-estimator:hover label.sk-toggleable__label-arrow:before {color: black;}#sk-container-id-1 div.sk-toggleable__content {max-height: 0;max-width: 0;overflow: hidden;text-align: left;background-color: #f0f8ff;}#sk-container-id-1 div.sk-toggleable__content pre {margin: 0.2em;color: black;border-radius: 0.25em;background-color: #f0f8ff;}#sk-container-id-1 input.sk-toggleable__control:checked~div.sk-toggleable__content {max-height: 200px;max-width: 100%;overflow: auto;}#sk-container-id-1 input.sk-toggleable__control:checked~label.sk-toggleable__label-arrow:before {content: \"▾\";}#sk-container-id-1 div.sk-estimator input.sk-toggleable__control:checked~label.sk-toggleable__label {background-color: #d4ebff;}#sk-container-id-1 div.sk-label input.sk-toggleable__control:checked~label.sk-toggleable__label {background-color: #d4ebff;}#sk-container-id-1 input.sk-hidden--visually {border: 0;clip: rect(1px 1px 1px 1px);clip: rect(1px, 1px, 1px, 1px);height: 1px;margin: -1px;overflow: hidden;padding: 0;position: absolute;width: 1px;}#sk-container-id-1 div.sk-estimator {font-family: monospace;background-color: #f0f8ff;border: 1px dotted black;border-radius: 0.25em;box-sizing: border-box;margin-bottom: 0.5em;}#sk-container-id-1 div.sk-estimator:hover {background-color: #d4ebff;}#sk-container-id-1 div.sk-parallel-item::after {content: \"\";width: 100%;border-bottom: 1px solid gray;flex-grow: 1;}#sk-container-id-1 div.sk-label:hover label.sk-toggleable__label {background-color: #d4ebff;}#sk-container-id-1 div.sk-serial::before {content: \"\";position: absolute;border-left: 1px solid gray;box-sizing: border-box;top: 0;bottom: 0;left: 50%;z-index: 0;}#sk-container-id-1 div.sk-serial {display: flex;flex-direction: column;align-items: center;background-color: white;padding-right: 0.2em;padding-left: 0.2em;position: relative;}#sk-container-id-1 div.sk-item {position: relative;z-index: 1;}#sk-container-id-1 div.sk-parallel {display: flex;align-items: stretch;justify-content: center;background-color: white;position: relative;}#sk-container-id-1 div.sk-item::before, #sk-container-id-1 div.sk-parallel-item::before {content: \"\";position: absolute;border-left: 1px solid gray;box-sizing: border-box;top: 0;bottom: 0;left: 50%;z-index: -1;}#sk-container-id-1 div.sk-parallel-item {display: flex;flex-direction: column;z-index: 1;position: relative;background-color: white;}#sk-container-id-1 div.sk-parallel-item:first-child::after {align-self: flex-end;width: 50%;}#sk-container-id-1 div.sk-parallel-item:last-child::after {align-self: flex-start;width: 50%;}#sk-container-id-1 div.sk-parallel-item:only-child::after {width: 0;}#sk-container-id-1 div.sk-dashed-wrapped {border: 1px dashed gray;margin: 0 0.4em 0.5em 0.4em;box-sizing: border-box;padding-bottom: 0.4em;background-color: white;}#sk-container-id-1 div.sk-label label {font-family: monospace;font-weight: bold;display: inline-block;line-height: 1.2em;}#sk-container-id-1 div.sk-label-container {text-align: center;}#sk-container-id-1 div.sk-container {/* jupyter's `normalize.less` sets `[hidden] { display: none; }` but bootstrap.min.css set `[hidden] { display: none !important; }` so we also need the `!important` here to be able to override the default hidden behavior on the sphinx rendered scikit-learn.org. See: https://github.com/scikit-learn/scikit-learn/issues/21755 */display: inline-block !important;position: relative;}#sk-container-id-1 div.sk-text-repr-fallback {display: none;}</style><div id=\"sk-container-id-1\" class=\"sk-top-container\"><div class=\"sk-text-repr-fallback\"><pre>LogisticRegression()</pre><b>In a Jupyter environment, please rerun this cell to show the HTML representation or trust the notebook. <br />On GitHub, the HTML representation is unable to render, please try loading this page with nbviewer.org.</b></div><div class=\"sk-container\" hidden><div class=\"sk-item\"><div class=\"sk-estimator sk-toggleable\"><input class=\"sk-toggleable__control sk-hidden--visually\" id=\"sk-estimator-id-1\" type=\"checkbox\" checked><label for=\"sk-estimator-id-1\" class=\"sk-toggleable__label sk-toggleable__label-arrow\">LogisticRegression</label><div class=\"sk-toggleable__content\"><pre>LogisticRegression()</pre></div></div></div></div></div>"
            ]
          },
          "metadata": {},
          "execution_count": 62
        }
      ]
    },
    {
      "cell_type": "code",
      "source": [
        "help(LogisticRegression())"
      ],
      "metadata": {
        "id": "g0ajPWETbqdE",
        "outputId": "d9d4dad5-ba33-4d76-9cf7-9ac6bfa6e40a",
        "colab": {
          "base_uri": "https://localhost:8080/"
        }
      },
      "execution_count": null,
      "outputs": [
        {
          "output_type": "stream",
          "name": "stdout",
          "text": [
            "Help on LogisticRegression in module sklearn.linear_model._logistic object:\n",
            "\n",
            "class LogisticRegression(sklearn.linear_model._base.LinearClassifierMixin, sklearn.linear_model._base.SparseCoefMixin, sklearn.base.BaseEstimator)\n",
            " |  LogisticRegression(penalty='l2', *, dual=False, tol=0.0001, C=1.0, fit_intercept=True, intercept_scaling=1, class_weight=None, random_state=None, solver='lbfgs', max_iter=100, multi_class='auto', verbose=0, warm_start=False, n_jobs=None, l1_ratio=None)\n",
            " |  \n",
            " |  Logistic Regression (aka logit, MaxEnt) classifier.\n",
            " |  \n",
            " |  In the multiclass case, the training algorithm uses the one-vs-rest (OvR)\n",
            " |  scheme if the 'multi_class' option is set to 'ovr', and uses the\n",
            " |  cross-entropy loss if the 'multi_class' option is set to 'multinomial'.\n",
            " |  (Currently the 'multinomial' option is supported only by the 'lbfgs',\n",
            " |  'sag', 'saga' and 'newton-cg' solvers.)\n",
            " |  \n",
            " |  This class implements regularized logistic regression using the\n",
            " |  'liblinear' library, 'newton-cg', 'sag', 'saga' and 'lbfgs' solvers. **Note\n",
            " |  that regularization is applied by default**. It can handle both dense\n",
            " |  and sparse input. Use C-ordered arrays or CSR matrices containing 64-bit\n",
            " |  floats for optimal performance; any other input format will be converted\n",
            " |  (and copied).\n",
            " |  \n",
            " |  The 'newton-cg', 'sag', and 'lbfgs' solvers support only L2 regularization\n",
            " |  with primal formulation, or no regularization. The 'liblinear' solver\n",
            " |  supports both L1 and L2 regularization, with a dual formulation only for\n",
            " |  the L2 penalty. The Elastic-Net regularization is only supported by the\n",
            " |  'saga' solver.\n",
            " |  \n",
            " |  Read more in the :ref:`User Guide <logistic_regression>`.\n",
            " |  \n",
            " |  Parameters\n",
            " |  ----------\n",
            " |  penalty : {'l1', 'l2', 'elasticnet', None}, default='l2'\n",
            " |      Specify the norm of the penalty:\n",
            " |  \n",
            " |      - `None`: no penalty is added;\n",
            " |      - `'l2'`: add a L2 penalty term and it is the default choice;\n",
            " |      - `'l1'`: add a L1 penalty term;\n",
            " |      - `'elasticnet'`: both L1 and L2 penalty terms are added.\n",
            " |  \n",
            " |      .. warning::\n",
            " |         Some penalties may not work with some solvers. See the parameter\n",
            " |         `solver` below, to know the compatibility between the penalty and\n",
            " |         solver.\n",
            " |  \n",
            " |      .. versionadded:: 0.19\n",
            " |         l1 penalty with SAGA solver (allowing 'multinomial' + L1)\n",
            " |  \n",
            " |      .. deprecated:: 1.2\n",
            " |         The 'none' option was deprecated in version 1.2, and will be removed\n",
            " |         in 1.4. Use `None` instead.\n",
            " |  \n",
            " |  dual : bool, default=False\n",
            " |      Dual or primal formulation. Dual formulation is only implemented for\n",
            " |      l2 penalty with liblinear solver. Prefer dual=False when\n",
            " |      n_samples > n_features.\n",
            " |  \n",
            " |  tol : float, default=1e-4\n",
            " |      Tolerance for stopping criteria.\n",
            " |  \n",
            " |  C : float, default=1.0\n",
            " |      Inverse of regularization strength; must be a positive float.\n",
            " |      Like in support vector machines, smaller values specify stronger\n",
            " |      regularization.\n",
            " |  \n",
            " |  fit_intercept : bool, default=True\n",
            " |      Specifies if a constant (a.k.a. bias or intercept) should be\n",
            " |      added to the decision function.\n",
            " |  \n",
            " |  intercept_scaling : float, default=1\n",
            " |      Useful only when the solver 'liblinear' is used\n",
            " |      and self.fit_intercept is set to True. In this case, x becomes\n",
            " |      [x, self.intercept_scaling],\n",
            " |      i.e. a \"synthetic\" feature with constant value equal to\n",
            " |      intercept_scaling is appended to the instance vector.\n",
            " |      The intercept becomes ``intercept_scaling * synthetic_feature_weight``.\n",
            " |  \n",
            " |      Note! the synthetic feature weight is subject to l1/l2 regularization\n",
            " |      as all other features.\n",
            " |      To lessen the effect of regularization on synthetic feature weight\n",
            " |      (and therefore on the intercept) intercept_scaling has to be increased.\n",
            " |  \n",
            " |  class_weight : dict or 'balanced', default=None\n",
            " |      Weights associated with classes in the form ``{class_label: weight}``.\n",
            " |      If not given, all classes are supposed to have weight one.\n",
            " |  \n",
            " |      The \"balanced\" mode uses the values of y to automatically adjust\n",
            " |      weights inversely proportional to class frequencies in the input data\n",
            " |      as ``n_samples / (n_classes * np.bincount(y))``.\n",
            " |  \n",
            " |      Note that these weights will be multiplied with sample_weight (passed\n",
            " |      through the fit method) if sample_weight is specified.\n",
            " |  \n",
            " |      .. versionadded:: 0.17\n",
            " |         *class_weight='balanced'*\n",
            " |  \n",
            " |  random_state : int, RandomState instance, default=None\n",
            " |      Used when ``solver`` == 'sag', 'saga' or 'liblinear' to shuffle the\n",
            " |      data. See :term:`Glossary <random_state>` for details.\n",
            " |  \n",
            " |  solver : {'lbfgs', 'liblinear', 'newton-cg', 'newton-cholesky', 'sag', 'saga'},             default='lbfgs'\n",
            " |  \n",
            " |      Algorithm to use in the optimization problem. Default is 'lbfgs'.\n",
            " |      To choose a solver, you might want to consider the following aspects:\n",
            " |  \n",
            " |          - For small datasets, 'liblinear' is a good choice, whereas 'sag'\n",
            " |            and 'saga' are faster for large ones;\n",
            " |          - For multiclass problems, only 'newton-cg', 'sag', 'saga' and\n",
            " |            'lbfgs' handle multinomial loss;\n",
            " |          - 'liblinear' is limited to one-versus-rest schemes.\n",
            " |          - 'newton-cholesky' is a good choice for `n_samples` >> `n_features`,\n",
            " |            especially with one-hot encoded categorical features with rare\n",
            " |            categories. Note that it is limited to binary classification and the\n",
            " |            one-versus-rest reduction for multiclass classification. Be aware that\n",
            " |            the memory usage of this solver has a quadratic dependency on\n",
            " |            `n_features` because it explicitly computes the Hessian matrix.\n",
            " |  \n",
            " |      .. warning::\n",
            " |         The choice of the algorithm depends on the penalty chosen.\n",
            " |         Supported penalties by solver:\n",
            " |  \n",
            " |         - 'lbfgs'           -   ['l2', None]\n",
            " |         - 'liblinear'       -   ['l1', 'l2']\n",
            " |         - 'newton-cg'       -   ['l2', None]\n",
            " |         - 'newton-cholesky' -   ['l2', None]\n",
            " |         - 'sag'             -   ['l2', None]\n",
            " |         - 'saga'            -   ['elasticnet', 'l1', 'l2', None]\n",
            " |  \n",
            " |      .. note::\n",
            " |         'sag' and 'saga' fast convergence is only guaranteed on features\n",
            " |         with approximately the same scale. You can preprocess the data with\n",
            " |         a scaler from :mod:`sklearn.preprocessing`.\n",
            " |  \n",
            " |      .. seealso::\n",
            " |         Refer to the User Guide for more information regarding\n",
            " |         :class:`LogisticRegression` and more specifically the\n",
            " |         :ref:`Table <Logistic_regression>`\n",
            " |         summarizing solver/penalty supports.\n",
            " |  \n",
            " |      .. versionadded:: 0.17\n",
            " |         Stochastic Average Gradient descent solver.\n",
            " |      .. versionadded:: 0.19\n",
            " |         SAGA solver.\n",
            " |      .. versionchanged:: 0.22\n",
            " |          The default solver changed from 'liblinear' to 'lbfgs' in 0.22.\n",
            " |      .. versionadded:: 1.2\n",
            " |         newton-cholesky solver.\n",
            " |  \n",
            " |  max_iter : int, default=100\n",
            " |      Maximum number of iterations taken for the solvers to converge.\n",
            " |  \n",
            " |  multi_class : {'auto', 'ovr', 'multinomial'}, default='auto'\n",
            " |      If the option chosen is 'ovr', then a binary problem is fit for each\n",
            " |      label. For 'multinomial' the loss minimised is the multinomial loss fit\n",
            " |      across the entire probability distribution, *even when the data is\n",
            " |      binary*. 'multinomial' is unavailable when solver='liblinear'.\n",
            " |      'auto' selects 'ovr' if the data is binary, or if solver='liblinear',\n",
            " |      and otherwise selects 'multinomial'.\n",
            " |  \n",
            " |      .. versionadded:: 0.18\n",
            " |         Stochastic Average Gradient descent solver for 'multinomial' case.\n",
            " |      .. versionchanged:: 0.22\n",
            " |          Default changed from 'ovr' to 'auto' in 0.22.\n",
            " |  \n",
            " |  verbose : int, default=0\n",
            " |      For the liblinear and lbfgs solvers set verbose to any positive\n",
            " |      number for verbosity.\n",
            " |  \n",
            " |  warm_start : bool, default=False\n",
            " |      When set to True, reuse the solution of the previous call to fit as\n",
            " |      initialization, otherwise, just erase the previous solution.\n",
            " |      Useless for liblinear solver. See :term:`the Glossary <warm_start>`.\n",
            " |  \n",
            " |      .. versionadded:: 0.17\n",
            " |         *warm_start* to support *lbfgs*, *newton-cg*, *sag*, *saga* solvers.\n",
            " |  \n",
            " |  n_jobs : int, default=None\n",
            " |      Number of CPU cores used when parallelizing over classes if\n",
            " |      multi_class='ovr'\". This parameter is ignored when the ``solver`` is\n",
            " |      set to 'liblinear' regardless of whether 'multi_class' is specified or\n",
            " |      not. ``None`` means 1 unless in a :obj:`joblib.parallel_backend`\n",
            " |      context. ``-1`` means using all processors.\n",
            " |      See :term:`Glossary <n_jobs>` for more details.\n",
            " |  \n",
            " |  l1_ratio : float, default=None\n",
            " |      The Elastic-Net mixing parameter, with ``0 <= l1_ratio <= 1``. Only\n",
            " |      used if ``penalty='elasticnet'``. Setting ``l1_ratio=0`` is equivalent\n",
            " |      to using ``penalty='l2'``, while setting ``l1_ratio=1`` is equivalent\n",
            " |      to using ``penalty='l1'``. For ``0 < l1_ratio <1``, the penalty is a\n",
            " |      combination of L1 and L2.\n",
            " |  \n",
            " |  Attributes\n",
            " |  ----------\n",
            " |  \n",
            " |  classes_ : ndarray of shape (n_classes, )\n",
            " |      A list of class labels known to the classifier.\n",
            " |  \n",
            " |  coef_ : ndarray of shape (1, n_features) or (n_classes, n_features)\n",
            " |      Coefficient of the features in the decision function.\n",
            " |  \n",
            " |      `coef_` is of shape (1, n_features) when the given problem is binary.\n",
            " |      In particular, when `multi_class='multinomial'`, `coef_` corresponds\n",
            " |      to outcome 1 (True) and `-coef_` corresponds to outcome 0 (False).\n",
            " |  \n",
            " |  intercept_ : ndarray of shape (1,) or (n_classes,)\n",
            " |      Intercept (a.k.a. bias) added to the decision function.\n",
            " |  \n",
            " |      If `fit_intercept` is set to False, the intercept is set to zero.\n",
            " |      `intercept_` is of shape (1,) when the given problem is binary.\n",
            " |      In particular, when `multi_class='multinomial'`, `intercept_`\n",
            " |      corresponds to outcome 1 (True) and `-intercept_` corresponds to\n",
            " |      outcome 0 (False).\n",
            " |  \n",
            " |  n_features_in_ : int\n",
            " |      Number of features seen during :term:`fit`.\n",
            " |  \n",
            " |      .. versionadded:: 0.24\n",
            " |  \n",
            " |  feature_names_in_ : ndarray of shape (`n_features_in_`,)\n",
            " |      Names of features seen during :term:`fit`. Defined only when `X`\n",
            " |      has feature names that are all strings.\n",
            " |  \n",
            " |      .. versionadded:: 1.0\n",
            " |  \n",
            " |  n_iter_ : ndarray of shape (n_classes,) or (1, )\n",
            " |      Actual number of iterations for all classes. If binary or multinomial,\n",
            " |      it returns only 1 element. For liblinear solver, only the maximum\n",
            " |      number of iteration across all classes is given.\n",
            " |  \n",
            " |      .. versionchanged:: 0.20\n",
            " |  \n",
            " |          In SciPy <= 1.0.0 the number of lbfgs iterations may exceed\n",
            " |          ``max_iter``. ``n_iter_`` will now report at most ``max_iter``.\n",
            " |  \n",
            " |  See Also\n",
            " |  --------\n",
            " |  SGDClassifier : Incrementally trained logistic regression (when given\n",
            " |      the parameter ``loss=\"log\"``).\n",
            " |  LogisticRegressionCV : Logistic regression with built-in cross validation.\n",
            " |  \n",
            " |  Notes\n",
            " |  -----\n",
            " |  The underlying C implementation uses a random number generator to\n",
            " |  select features when fitting the model. It is thus not uncommon,\n",
            " |  to have slightly different results for the same input data. If\n",
            " |  that happens, try with a smaller tol parameter.\n",
            " |  \n",
            " |  Predict output may not match that of standalone liblinear in certain\n",
            " |  cases. See :ref:`differences from liblinear <liblinear_differences>`\n",
            " |  in the narrative documentation.\n",
            " |  \n",
            " |  References\n",
            " |  ----------\n",
            " |  \n",
            " |  L-BFGS-B -- Software for Large-scale Bound-constrained Optimization\n",
            " |      Ciyou Zhu, Richard Byrd, Jorge Nocedal and Jose Luis Morales.\n",
            " |      http://users.iems.northwestern.edu/~nocedal/lbfgsb.html\n",
            " |  \n",
            " |  LIBLINEAR -- A Library for Large Linear Classification\n",
            " |      https://www.csie.ntu.edu.tw/~cjlin/liblinear/\n",
            " |  \n",
            " |  SAG -- Mark Schmidt, Nicolas Le Roux, and Francis Bach\n",
            " |      Minimizing Finite Sums with the Stochastic Average Gradient\n",
            " |      https://hal.inria.fr/hal-00860051/document\n",
            " |  \n",
            " |  SAGA -- Defazio, A., Bach F. & Lacoste-Julien S. (2014).\n",
            " |          :arxiv:`\"SAGA: A Fast Incremental Gradient Method With Support\n",
            " |          for Non-Strongly Convex Composite Objectives\" <1407.0202>`\n",
            " |  \n",
            " |  Hsiang-Fu Yu, Fang-Lan Huang, Chih-Jen Lin (2011). Dual coordinate descent\n",
            " |      methods for logistic regression and maximum entropy models.\n",
            " |      Machine Learning 85(1-2):41-75.\n",
            " |      https://www.csie.ntu.edu.tw/~cjlin/papers/maxent_dual.pdf\n",
            " |  \n",
            " |  Examples\n",
            " |  --------\n",
            " |  >>> from sklearn.datasets import load_iris\n",
            " |  >>> from sklearn.linear_model import LogisticRegression\n",
            " |  >>> X, y = load_iris(return_X_y=True)\n",
            " |  >>> clf = LogisticRegression(random_state=0).fit(X, y)\n",
            " |  >>> clf.predict(X[:2, :])\n",
            " |  array([0, 0])\n",
            " |  >>> clf.predict_proba(X[:2, :])\n",
            " |  array([[9.8...e-01, 1.8...e-02, 1.4...e-08],\n",
            " |         [9.7...e-01, 2.8...e-02, ...e-08]])\n",
            " |  >>> clf.score(X, y)\n",
            " |  0.97...\n",
            " |  \n",
            " |  Method resolution order:\n",
            " |      LogisticRegression\n",
            " |      sklearn.linear_model._base.LinearClassifierMixin\n",
            " |      sklearn.base.ClassifierMixin\n",
            " |      sklearn.linear_model._base.SparseCoefMixin\n",
            " |      sklearn.base.BaseEstimator\n",
            " |      builtins.object\n",
            " |  \n",
            " |  Methods defined here:\n",
            " |  \n",
            " |  __init__(self, penalty='l2', *, dual=False, tol=0.0001, C=1.0, fit_intercept=True, intercept_scaling=1, class_weight=None, random_state=None, solver='lbfgs', max_iter=100, multi_class='auto', verbose=0, warm_start=False, n_jobs=None, l1_ratio=None)\n",
            " |      Initialize self.  See help(type(self)) for accurate signature.\n",
            " |  \n",
            " |  fit(self, X, y, sample_weight=None)\n",
            " |      Fit the model according to the given training data.\n",
            " |      \n",
            " |      Parameters\n",
            " |      ----------\n",
            " |      X : {array-like, sparse matrix} of shape (n_samples, n_features)\n",
            " |          Training vector, where `n_samples` is the number of samples and\n",
            " |          `n_features` is the number of features.\n",
            " |      \n",
            " |      y : array-like of shape (n_samples,)\n",
            " |          Target vector relative to X.\n",
            " |      \n",
            " |      sample_weight : array-like of shape (n_samples,) default=None\n",
            " |          Array of weights that are assigned to individual samples.\n",
            " |          If not provided, then each sample is given unit weight.\n",
            " |      \n",
            " |          .. versionadded:: 0.17\n",
            " |             *sample_weight* support to LogisticRegression.\n",
            " |      \n",
            " |      Returns\n",
            " |      -------\n",
            " |      self\n",
            " |          Fitted estimator.\n",
            " |      \n",
            " |      Notes\n",
            " |      -----\n",
            " |      The SAGA solver supports both float64 and float32 bit arrays.\n",
            " |  \n",
            " |  predict_log_proba(self, X)\n",
            " |      Predict logarithm of probability estimates.\n",
            " |      \n",
            " |      The returned estimates for all classes are ordered by the\n",
            " |      label of classes.\n",
            " |      \n",
            " |      Parameters\n",
            " |      ----------\n",
            " |      X : array-like of shape (n_samples, n_features)\n",
            " |          Vector to be scored, where `n_samples` is the number of samples and\n",
            " |          `n_features` is the number of features.\n",
            " |      \n",
            " |      Returns\n",
            " |      -------\n",
            " |      T : array-like of shape (n_samples, n_classes)\n",
            " |          Returns the log-probability of the sample for each class in the\n",
            " |          model, where classes are ordered as they are in ``self.classes_``.\n",
            " |  \n",
            " |  predict_proba(self, X)\n",
            " |      Probability estimates.\n",
            " |      \n",
            " |      The returned estimates for all classes are ordered by the\n",
            " |      label of classes.\n",
            " |      \n",
            " |      For a multi_class problem, if multi_class is set to be \"multinomial\"\n",
            " |      the softmax function is used to find the predicted probability of\n",
            " |      each class.\n",
            " |      Else use a one-vs-rest approach, i.e calculate the probability\n",
            " |      of each class assuming it to be positive using the logistic function.\n",
            " |      and normalize these values across all the classes.\n",
            " |      \n",
            " |      Parameters\n",
            " |      ----------\n",
            " |      X : array-like of shape (n_samples, n_features)\n",
            " |          Vector to be scored, where `n_samples` is the number of samples and\n",
            " |          `n_features` is the number of features.\n",
            " |      \n",
            " |      Returns\n",
            " |      -------\n",
            " |      T : array-like of shape (n_samples, n_classes)\n",
            " |          Returns the probability of the sample for each class in the model,\n",
            " |          where classes are ordered as they are in ``self.classes_``.\n",
            " |  \n",
            " |  ----------------------------------------------------------------------\n",
            " |  Data and other attributes defined here:\n",
            " |  \n",
            " |  __annotations__ = {'_parameter_constraints': <class 'dict'>}\n",
            " |  \n",
            " |  ----------------------------------------------------------------------\n",
            " |  Methods inherited from sklearn.linear_model._base.LinearClassifierMixin:\n",
            " |  \n",
            " |  decision_function(self, X)\n",
            " |      Predict confidence scores for samples.\n",
            " |      \n",
            " |      The confidence score for a sample is proportional to the signed\n",
            " |      distance of that sample to the hyperplane.\n",
            " |      \n",
            " |      Parameters\n",
            " |      ----------\n",
            " |      X : {array-like, sparse matrix} of shape (n_samples, n_features)\n",
            " |          The data matrix for which we want to get the confidence scores.\n",
            " |      \n",
            " |      Returns\n",
            " |      -------\n",
            " |      scores : ndarray of shape (n_samples,) or (n_samples, n_classes)\n",
            " |          Confidence scores per `(n_samples, n_classes)` combination. In the\n",
            " |          binary case, confidence score for `self.classes_[1]` where >0 means\n",
            " |          this class would be predicted.\n",
            " |  \n",
            " |  predict(self, X)\n",
            " |      Predict class labels for samples in X.\n",
            " |      \n",
            " |      Parameters\n",
            " |      ----------\n",
            " |      X : {array-like, sparse matrix} of shape (n_samples, n_features)\n",
            " |          The data matrix for which we want to get the predictions.\n",
            " |      \n",
            " |      Returns\n",
            " |      -------\n",
            " |      y_pred : ndarray of shape (n_samples,)\n",
            " |          Vector containing the class labels for each sample.\n",
            " |  \n",
            " |  ----------------------------------------------------------------------\n",
            " |  Methods inherited from sklearn.base.ClassifierMixin:\n",
            " |  \n",
            " |  score(self, X, y, sample_weight=None)\n",
            " |      Return the mean accuracy on the given test data and labels.\n",
            " |      \n",
            " |      In multi-label classification, this is the subset accuracy\n",
            " |      which is a harsh metric since you require for each sample that\n",
            " |      each label set be correctly predicted.\n",
            " |      \n",
            " |      Parameters\n",
            " |      ----------\n",
            " |      X : array-like of shape (n_samples, n_features)\n",
            " |          Test samples.\n",
            " |      \n",
            " |      y : array-like of shape (n_samples,) or (n_samples, n_outputs)\n",
            " |          True labels for `X`.\n",
            " |      \n",
            " |      sample_weight : array-like of shape (n_samples,), default=None\n",
            " |          Sample weights.\n",
            " |      \n",
            " |      Returns\n",
            " |      -------\n",
            " |      score : float\n",
            " |          Mean accuracy of ``self.predict(X)`` w.r.t. `y`.\n",
            " |  \n",
            " |  ----------------------------------------------------------------------\n",
            " |  Data descriptors inherited from sklearn.base.ClassifierMixin:\n",
            " |  \n",
            " |  __dict__\n",
            " |      dictionary for instance variables (if defined)\n",
            " |  \n",
            " |  __weakref__\n",
            " |      list of weak references to the object (if defined)\n",
            " |  \n",
            " |  ----------------------------------------------------------------------\n",
            " |  Methods inherited from sklearn.linear_model._base.SparseCoefMixin:\n",
            " |  \n",
            " |  densify(self)\n",
            " |      Convert coefficient matrix to dense array format.\n",
            " |      \n",
            " |      Converts the ``coef_`` member (back) to a numpy.ndarray. This is the\n",
            " |      default format of ``coef_`` and is required for fitting, so calling\n",
            " |      this method is only required on models that have previously been\n",
            " |      sparsified; otherwise, it is a no-op.\n",
            " |      \n",
            " |      Returns\n",
            " |      -------\n",
            " |      self\n",
            " |          Fitted estimator.\n",
            " |  \n",
            " |  sparsify(self)\n",
            " |      Convert coefficient matrix to sparse format.\n",
            " |      \n",
            " |      Converts the ``coef_`` member to a scipy.sparse matrix, which for\n",
            " |      L1-regularized models can be much more memory- and storage-efficient\n",
            " |      than the usual numpy.ndarray representation.\n",
            " |      \n",
            " |      The ``intercept_`` member is not converted.\n",
            " |      \n",
            " |      Returns\n",
            " |      -------\n",
            " |      self\n",
            " |          Fitted estimator.\n",
            " |      \n",
            " |      Notes\n",
            " |      -----\n",
            " |      For non-sparse models, i.e. when there are not many zeros in ``coef_``,\n",
            " |      this may actually *increase* memory usage, so use this method with\n",
            " |      care. A rule of thumb is that the number of zero elements, which can\n",
            " |      be computed with ``(coef_ == 0).sum()``, must be more than 50% for this\n",
            " |      to provide significant benefits.\n",
            " |      \n",
            " |      After calling this method, further fitting with the partial_fit\n",
            " |      method (if any) will not work until you call densify.\n",
            " |  \n",
            " |  ----------------------------------------------------------------------\n",
            " |  Methods inherited from sklearn.base.BaseEstimator:\n",
            " |  \n",
            " |  __getstate__(self)\n",
            " |  \n",
            " |  __repr__(self, N_CHAR_MAX=700)\n",
            " |      Return repr(self).\n",
            " |  \n",
            " |  __setstate__(self, state)\n",
            " |  \n",
            " |  get_params(self, deep=True)\n",
            " |      Get parameters for this estimator.\n",
            " |      \n",
            " |      Parameters\n",
            " |      ----------\n",
            " |      deep : bool, default=True\n",
            " |          If True, will return the parameters for this estimator and\n",
            " |          contained subobjects that are estimators.\n",
            " |      \n",
            " |      Returns\n",
            " |      -------\n",
            " |      params : dict\n",
            " |          Parameter names mapped to their values.\n",
            " |  \n",
            " |  set_params(self, **params)\n",
            " |      Set the parameters of this estimator.\n",
            " |      \n",
            " |      The method works on simple estimators as well as on nested objects\n",
            " |      (such as :class:`~sklearn.pipeline.Pipeline`). The latter have\n",
            " |      parameters of the form ``<component>__<parameter>`` so that it's\n",
            " |      possible to update each component of a nested object.\n",
            " |      \n",
            " |      Parameters\n",
            " |      ----------\n",
            " |      **params : dict\n",
            " |          Estimator parameters.\n",
            " |      \n",
            " |      Returns\n",
            " |      -------\n",
            " |      self : estimator instance\n",
            " |          Estimator instance.\n",
            "\n"
          ]
        }
      ]
    },
    {
      "cell_type": "code",
      "source": [
        "model.coef_"
      ],
      "metadata": {
        "colab": {
          "base_uri": "https://localhost:8080/"
        },
        "id": "baqDhWxGaIFr",
        "outputId": "598b61cd-423f-4da2-d4bf-04fc53a5553c"
      },
      "execution_count": null,
      "outputs": [
        {
          "output_type": "execute_result",
          "data": {
            "text/plain": [
              "array([[-6.08726850e-01,  5.13497448e-03,  2.88743477e-02,\n",
              "         2.03095972e-03, -1.24585941e-01,  3.15426576e-03,\n",
              "        -3.31724389e-01, -4.86697743e-01,  2.18363860e-01,\n",
              "        -1.49527297e-01, -2.71160765e-01, -5.19840481e-01,\n",
              "        -5.69978568e-01,  1.00409621e+00, -7.27748024e-02,\n",
              "         1.27275712e-03, -5.11002400e-01, -7.66052564e-02,\n",
              "        -7.77635634e-02,  2.20918272e-03, -2.76368127e-01,\n",
              "        -9.84553789e-02,  5.73988071e-01, -8.50006686e-02,\n",
              "         3.99545683e-01, -2.66236651e-03,  1.72984118e-02,\n",
              "        -3.30473550e-01, -3.39376457e-01, -4.39300930e-02,\n",
              "         3.25853999e-01,  2.40936645e-03, -3.89637237e-03,\n",
              "         3.51633009e-02, -7.37363372e-01, -2.49337835e-01,\n",
              "         1.21218734e+00, -1.44932167e-02, -3.32391020e-02,\n",
              "         1.87512484e-03, -8.69086239e-04, -1.18345520e-02,\n",
              "         1.85470466e-03,  1.21773031e-03, -5.56414807e-03,\n",
              "        -4.13562906e-03,  2.97932145e-03, -2.12615622e-03,\n",
              "         8.31096330e-05, -5.92535804e-01, -8.39109515e-03,\n",
              "        -8.81668063e-03, -2.01339545e-03,  5.80023980e-01,\n",
              "        -3.85076483e-03, -2.03246915e-03, -3.47618541e-03,\n",
              "        -2.42099807e-02, -1.62439353e-02, -8.48000530e-03,\n",
              "        -8.94698491e-04,  1.85230411e-02, -3.90810290e-03,\n",
              "        -4.51921306e-02,  4.60432364e-03,  7.01405307e-02,\n",
              "         8.70060137e-02, -7.88578234e-03, -9.73763189e-04,\n",
              "         1.37605882e-01,  5.00773478e-02, -4.53915990e-02,\n",
              "         8.49152903e-02, -6.01699611e-02, -9.12445515e-03,\n",
              "         1.47128799e-01, -4.25756003e-02, -3.31282393e-01,\n",
              "         1.15738835e-01, -4.57232259e-02, -2.87792235e-02,\n",
              "        -2.42617274e-01, -8.54847389e-03,  3.14348259e-02,\n",
              "        -5.82982243e-02,  1.45749763e-02,  2.63098129e-02,\n",
              "        -4.59365757e-02, -2.98937315e-01,  1.15039212e-01,\n",
              "        -3.29001139e-02, -1.54558339e-02, -5.11392033e-03,\n",
              "         2.24320831e-03,  4.95157948e-02,  3.33383026e-02,\n",
              "         8.41363332e-03,  2.39501252e-02, -3.55834275e-03,\n",
              "        -1.57799747e-01, -7.66939008e-01,  7.38610887e-01,\n",
              "        -8.53557508e-01,  9.03337021e-02,  9.01209669e-01,\n",
              "        -1.20566932e-01, -1.39993981e-01,  7.48675562e-03,\n",
              "        -1.93899519e-01, -7.93182791e-01,  6.63536814e-03,\n",
              "         7.09253509e-01, -1.10919229e-02,  7.07226427e-01,\n",
              "        -2.63213755e-01, -2.07160022e+00, -1.54336091e-02,\n",
              "        -8.48772949e-03,  2.81960003e+00, -4.37881251e-03,\n",
              "        -1.60369071e-01, -7.61454588e-02, -6.05767369e-02,\n",
              "        -5.19669286e-01, -1.02555678e-01,  9.47219150e-01,\n",
              "         6.17781882e-01,  6.25846102e-01, -3.69397773e-01,\n",
              "        -9.28860441e-01, -1.04991137e+00,  2.42275378e-02,\n",
              "         5.36586424e-02, -5.03650340e-01, -1.08022530e-01,\n",
              "         1.09777482e+00, -2.93369190e-01, -4.27941390e-01,\n",
              "         3.71616090e-02, -2.71776900e-01, -1.75335409e-02,\n",
              "         3.45160841e-02, -2.48833185e-02,  6.25340666e-02,\n",
              "         2.76471819e-02, -4.98763551e-03, -7.15906012e-02,\n",
              "        -5.42598717e-02,  3.95368935e-02,  3.01728550e-02,\n",
              "        -9.44979569e-01, -1.56828269e-01, -1.33160956e-01,\n",
              "         1.11746481e+00,  4.36501193e-02, -2.86745417e-02]])"
            ]
          },
          "metadata": {},
          "execution_count": 84
        }
      ]
    },
    {
      "cell_type": "code",
      "source": [
        "predictions = model.predict(td_encoded)"
      ],
      "metadata": {
        "id": "jS8JVgKyh5B5"
      },
      "execution_count": null,
      "outputs": []
    },
    {
      "cell_type": "code",
      "source": [
        "predictions"
      ],
      "metadata": {
        "colab": {
          "base_uri": "https://localhost:8080/"
        },
        "id": "9p65ur-it_XF",
        "outputId": "0db6d38f-ab82-494a-82e7-5d9a3436889e"
      },
      "execution_count": null,
      "outputs": [
        {
          "output_type": "execute_result",
          "data": {
            "text/plain": [
              "array([0, 1, 1, ..., 0, 1, 1])"
            ]
          },
          "metadata": {},
          "execution_count": 64
        }
      ]
    },
    {
      "cell_type": "code",
      "source": [
        "submission_data['Converted'] = predictions"
      ],
      "metadata": {
        "id": "n_9-Kh59uFpq"
      },
      "execution_count": null,
      "outputs": []
    },
    {
      "cell_type": "code",
      "source": [
        "submission_data"
      ],
      "metadata": {
        "id": "qisN6yz7uQ80"
      },
      "execution_count": null,
      "outputs": []
    },
    {
      "cell_type": "code",
      "source": [
        "submission_data.to_csv(\"/content/drive/MyDrive/Colab Notebooks/dsml-case-study/submission.csv\",index=False)"
      ],
      "metadata": {
        "id": "of0LzWTzvBsj"
      },
      "execution_count": null,
      "outputs": []
    },
    {
      "cell_type": "code",
      "source": [
        "# accuracy = accuracy_score(td_encoded[\"Converted\"], predictions)\n",
        "# recall = recall_score(td_encoded[\"Converted\"], predictions)\n",
        "# print(confusion_matrix(td_encoded[\"Converted\"], predictions))\n",
        "# print(f\"Model Accuracy: {accuracy:.4f}\")\n",
        "# print(f\"Model Recall: {recall:.4f}\")"
      ],
      "metadata": {
        "id": "gAtEW0Zgt9jz"
      },
      "execution_count": null,
      "outputs": []
    }
  ]
}